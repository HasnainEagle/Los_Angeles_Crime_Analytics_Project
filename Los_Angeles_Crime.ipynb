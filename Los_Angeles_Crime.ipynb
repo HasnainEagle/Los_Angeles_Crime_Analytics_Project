{
 "cells": [
  {
   "cell_type": "markdown",
   "id": "4a846610-3ddd-4219-a17c-66c182ecd7ed",
   "metadata": {},
   "source": [
    "# Los Angeles Crime Dataset (Exploration,Cleaning,Transformations)"
   ]
  },
  {
   "cell_type": "code",
   "execution_count": 1,
   "id": "f2150cdb-7d5c-4e10-92f7-99e46ebd081e",
   "metadata": {},
   "outputs": [],
   "source": [
    "import numpy as np\n",
    "import pandas as pd\n",
    "import re"
   ]
  },
  {
   "cell_type": "code",
   "execution_count": 2,
   "id": "5b09def7-9ac9-4a95-9088-788928ac8c43",
   "metadata": {},
   "outputs": [],
   "source": [
    "data = pd.read_csv('Crime_Data_from_2010_to_2019_20250408.csv')"
   ]
  },
  {
   "cell_type": "code",
   "execution_count": 3,
   "id": "520aaafb-c98e-4cc3-8fec-cb1fe4cc98e3",
   "metadata": {},
   "outputs": [],
   "source": [
    "### 📊 *Explanation of Each Column:*\n",
    "\n",
    "# | *Column Name*          | *What It Means*                                          |\n",
    "# |--------------------------|------------------------------------------------------------|\n",
    "# | *DR_NO*                | *Report Number* – A unique identifier for the crime report. |\n",
    "# | *Date Rptd*            | *Date Reported* – The date when the crime report was made. |\n",
    "# | *DATE OCC*             | *Date of Occurrence* – The date when the crime actually happened. |\n",
    "# | *TIME OCC*             | *Time of Occurrence* – The time when the crime took place (in 24-hour format). |\n",
    "# | *AREA*                 | *Area Number* – A code that represents the area within Los Angeles where the crime happened. |\n",
    "# | *AREA NAME*            | *Area Name* – The name of the area or neighborhood where the crime occurred (e.g., Hollywood, Downtown). |\n",
    "# | *Rpt Dist No*          | *Reporting District Number* – A more specific location within the area (a police district code). |\n",
    "# | *Part 1-2*             | *Part 1 and Part 2 Crimes* – Differentiates between serious crimes (Part 1) like homicide and less serious crimes (Part 2) like vandalism. |\n",
    "# | *Crm Cd*               | *Crime Code* – A numeric code that corresponds to a specific crime type (e.g., theft, assault). |\n",
    "# | *Crm Cd Desc*          | *Crime Description* – A short description of the crime (e.g., burglary, robbery). |\n",
    "# | *Mocodes*              | *Modus Operandi Codes* – Codes that describe the method or pattern of the crime (e.g., how the crime was committed). |\n",
    "# | *Vict Age*             | *Victim Age* – The age of the person who was the victim of the crime. |\n",
    "# | *Vict Sex*             | *Victim Sex* – The gender of the victim (e.g., Male, Female). |\n",
    "# | *Vict Descent*         | *Victim Descent* – The ethnicity or racial background of the victim (e.g., White, Black, Hispanic). |\n",
    "# | *Premis Cd*            | *Premises Code* – A code that describes the type of location where the crime occurred (e.g., residence, street). |\n",
    "# | *Premis Desc*          | *Premises Description* – A description of the location where the crime took place (e.g., home, office, parking lot). |\n",
    "# | *Weapon Used Cd*       | *Weapon Used Code* – A code representing the type of weapon used in the crime (e.g., gun, knife, no weapon). |\n",
    "# | *Weapon Desc*          | *Weapon Description* – A description of the weapon used in the crime (e.g., handgun, bat, or \"no weapon\"). |\n",
    "# | *Status*               | *Crime Status* – The current status of the case (e.g., open, closed, under investigation). |\n",
    "# | *Status Desc*          | *Status Description* – A more detailed description of the case status (e.g., \"Arrest made,\" \"Investigation ongoing\"). |\n",
    "# | *Crm Cd 1, 2, 3, 4*     | *Additional Crime Codes* – If the incident involved multiple crimes, these codes refer to other crimes related to the primary crime. |\n",
    "# | *LOCATION*             | *Crime Location* – The exact street address or neighborhood where the crime occurred (sometimes general). |\n",
    "# | *Cross Street*         | *Cross Street* – The nearest intersection or cross street to where the crime took place. |\n",
    "# | *LAT*                  | *Latitude* – The latitude coordinate of the crime location (for mapping purposes). |\n",
    "# | *LON*                  | *Longitude* – The longitude coordinate of the crime location (for mapping purposes). |\n",
    "\n",
    "# ---"
   ]
  },
  {
   "cell_type": "markdown",
   "id": "48e3e9d2-cdd2-488f-afbe-7ed1e1b98eac",
   "metadata": {},
   "source": [
    "### Filter Data From 2015-2019"
   ]
  },
  {
   "cell_type": "markdown",
   "id": "6ec710a5-37bf-4e62-968d-e8fc1adb3578",
   "metadata": {},
   "source": [
    "#### Convert the 'DATE OCC' col to datetime"
   ]
  },
  {
   "cell_type": "code",
   "execution_count": 4,
   "id": "02a3af38-d024-4f2e-beb3-cc60e86209a4",
   "metadata": {},
   "outputs": [],
   "source": [
    "data['DATE OCC'] = pd.to_datetime(data['DATE OCC'], format='%m/%d/%Y %I:%M:%S %p')"
   ]
  },
  {
   "cell_type": "code",
   "execution_count": 5,
   "id": "6f56c178-3499-49e5-ad6f-d13de31728cc",
   "metadata": {},
   "outputs": [
    {
     "data": {
      "text/plain": [
       "0   2010-02-20\n",
       "1   2010-09-12\n",
       "2   2010-08-09\n",
       "3   2010-01-05\n",
       "4   2010-01-02\n",
       "Name: DATE OCC, dtype: datetime64[ns]"
      ]
     },
     "execution_count": 5,
     "metadata": {},
     "output_type": "execute_result"
    }
   ],
   "source": [
    "data['DATE OCC'].head()"
   ]
  },
  {
   "cell_type": "code",
   "execution_count": 6,
   "id": "e5cfce36-f45d-4d41-9ffe-dc22bf43e8c9",
   "metadata": {},
   "outputs": [],
   "source": [
    "la_data = data[(data['DATE OCC'].dt.year >= 2015) & (data['DATE OCC'].dt.year <= 2019)]"
   ]
  },
  {
   "cell_type": "markdown",
   "id": "94618791-def7-4041-a4b3-4ce70cff069c",
   "metadata": {},
   "source": [
    "### Drop Unnecessary Columns From the Data "
   ]
  },
  {
   "cell_type": "code",
   "execution_count": 7,
   "id": "6bc6b596-7f70-41fb-82f5-ecadb9b29ccc",
   "metadata": {},
   "outputs": [
    {
     "data": {
      "text/plain": [
       "Index(['dr_no', 'date rptd', 'date occ', 'time occ', 'area', 'area name',\n",
       "       'rpt dist no', 'part 1-2', 'crm cd', 'crm cd desc', 'mocodes',\n",
       "       'vict age', 'vict sex', 'vict descent', 'premis cd', 'premis desc',\n",
       "       'weapon used cd', 'weapon desc', 'status', 'status desc', 'crm cd 1',\n",
       "       'crm cd 2', 'crm cd 3', 'crm cd 4', 'location', 'cross street', 'lat',\n",
       "       'lon'],\n",
       "      dtype='object')"
      ]
     },
     "execution_count": 7,
     "metadata": {},
     "output_type": "execute_result"
    }
   ],
   "source": [
    "# convert col_names into lower and strip them \n",
    "la_data.columns = la_data.columns.str.lower().str.strip()\n",
    "la_data.columns"
   ]
  },
  {
   "cell_type": "code",
   "execution_count": 8,
   "id": "0509dbe5-242f-4dd3-be8c-bf2206c140ec",
   "metadata": {},
   "outputs": [],
   "source": [
    "la_data = la_data.drop(columns=['crm cd 1',\n",
    " 'crm cd 2',\n",
    " 'crm cd 3',\n",
    " 'crm cd 4',\n",
    " 'crm cd',\n",
    " 'cross street',\n",
    " 'lat',\n",
    " 'lon',\n",
    " 'weapon used cd',\n",
    " 'mocodes',\n",
    " 'premis cd',\n",
    " 'rpt dist no',\n",
    " 'area'])"
   ]
  },
  {
   "cell_type": "code",
   "execution_count": 9,
   "id": "56fafca9-b59b-4600-91ec-c26413e1e8c8",
   "metadata": {},
   "outputs": [
    {
     "data": {
      "text/plain": [
       "(1197671, 15)"
      ]
     },
     "execution_count": 9,
     "metadata": {},
     "output_type": "execute_result"
    }
   ],
   "source": [
    "la_data.shape"
   ]
  },
  {
   "cell_type": "markdown",
   "id": "551a6c17-d435-495b-9dce-307dca2e6c3e",
   "metadata": {},
   "source": [
    "### Duplicate Records "
   ]
  },
  {
   "cell_type": "code",
   "execution_count": 10,
   "id": "721aeabf-9a0d-4138-b5de-4ee887e94d07",
   "metadata": {},
   "outputs": [
    {
     "data": {
      "text/plain": [
       "False    1081884\n",
       "True      115787\n",
       "Name: count, dtype: int64"
      ]
     },
     "execution_count": 10,
     "metadata": {},
     "output_type": "execute_result"
    }
   ],
   "source": [
    "la_data.duplicated(subset = \"dr_no\",keep=\"first\").value_counts()"
   ]
  },
  {
   "cell_type": "code",
   "execution_count": 11,
   "id": "82e5661f-ccac-4ac7-b839-b22415647b2f",
   "metadata": {},
   "outputs": [
    {
     "data": {
      "text/html": [
       "<div>\n",
       "<style scoped>\n",
       "    .dataframe tbody tr th:only-of-type {\n",
       "        vertical-align: middle;\n",
       "    }\n",
       "\n",
       "    .dataframe tbody tr th {\n",
       "        vertical-align: top;\n",
       "    }\n",
       "\n",
       "    .dataframe thead th {\n",
       "        text-align: right;\n",
       "    }\n",
       "</style>\n",
       "<table border=\"1\" class=\"dataframe\">\n",
       "  <thead>\n",
       "    <tr style=\"text-align: right;\">\n",
       "      <th></th>\n",
       "      <th>dr_no</th>\n",
       "      <th>date rptd</th>\n",
       "      <th>date occ</th>\n",
       "      <th>time occ</th>\n",
       "      <th>area name</th>\n",
       "      <th>part 1-2</th>\n",
       "      <th>crm cd desc</th>\n",
       "      <th>vict age</th>\n",
       "      <th>vict sex</th>\n",
       "      <th>vict descent</th>\n",
       "      <th>premis desc</th>\n",
       "      <th>weapon desc</th>\n",
       "      <th>status</th>\n",
       "      <th>status desc</th>\n",
       "      <th>location</th>\n",
       "    </tr>\n",
       "  </thead>\n",
       "  <tbody>\n",
       "    <tr>\n",
       "      <th>1130670</th>\n",
       "      <td>161206510</td>\n",
       "      <td>02/05/2016 12:00:00 AM</td>\n",
       "      <td>2016-02-05</td>\n",
       "      <td>700</td>\n",
       "      <td>77th Street</td>\n",
       "      <td>1</td>\n",
       "      <td>THEFT-GRAND ($950.01 &amp; OVER)EXCPT,GUNS,FOWL,LI...</td>\n",
       "      <td>51</td>\n",
       "      <td>M</td>\n",
       "      <td>H</td>\n",
       "      <td>AUTO SALES LOT</td>\n",
       "      <td>NaN</td>\n",
       "      <td>IC</td>\n",
       "      <td>Invest Cont</td>\n",
       "      <td>900 W  FLORENCE                     AV</td>\n",
       "    </tr>\n",
       "    <tr>\n",
       "      <th>1356399</th>\n",
       "      <td>161206510</td>\n",
       "      <td>02/05/2016 12:00:00 AM</td>\n",
       "      <td>2016-02-05</td>\n",
       "      <td>700</td>\n",
       "      <td>77th Street</td>\n",
       "      <td>1</td>\n",
       "      <td>THEFT-GRAND ($950.01 &amp; OVER)EXCPT,GUNS,FOWL,LI...</td>\n",
       "      <td>51</td>\n",
       "      <td>M</td>\n",
       "      <td>H</td>\n",
       "      <td>AUTO SALES LOT</td>\n",
       "      <td>NaN</td>\n",
       "      <td>IC</td>\n",
       "      <td>Invest Cont</td>\n",
       "      <td>900 W  FLORENCE                     AV</td>\n",
       "    </tr>\n",
       "    <tr>\n",
       "      <th>1120980</th>\n",
       "      <td>161206511</td>\n",
       "      <td>02/06/2016 12:00:00 AM</td>\n",
       "      <td>2016-02-06</td>\n",
       "      <td>620</td>\n",
       "      <td>77th Street</td>\n",
       "      <td>2</td>\n",
       "      <td>VANDALISM - MISDEAMEANOR ($399 OR UNDER)</td>\n",
       "      <td>29</td>\n",
       "      <td>M</td>\n",
       "      <td>H</td>\n",
       "      <td>RESTAURANT/FAST FOOD</td>\n",
       "      <td>NaN</td>\n",
       "      <td>IC</td>\n",
       "      <td>Invest Cont</td>\n",
       "      <td>100 W  MANCHESTER                   AV</td>\n",
       "    </tr>\n",
       "    <tr>\n",
       "      <th>1346672</th>\n",
       "      <td>161206511</td>\n",
       "      <td>02/06/2016 12:00:00 AM</td>\n",
       "      <td>2016-02-06</td>\n",
       "      <td>620</td>\n",
       "      <td>77th Street</td>\n",
       "      <td>2</td>\n",
       "      <td>VANDALISM - MISDEAMEANOR ($399 OR UNDER)</td>\n",
       "      <td>29</td>\n",
       "      <td>M</td>\n",
       "      <td>H</td>\n",
       "      <td>RESTAURANT/FAST FOOD</td>\n",
       "      <td>NaN</td>\n",
       "      <td>IC</td>\n",
       "      <td>Invest Cont</td>\n",
       "      <td>100 W  MANCHESTER                   AV</td>\n",
       "    </tr>\n",
       "    <tr>\n",
       "      <th>1191452</th>\n",
       "      <td>161206512</td>\n",
       "      <td>02/05/2016 12:00:00 AM</td>\n",
       "      <td>2016-02-05</td>\n",
       "      <td>700</td>\n",
       "      <td>77th Street</td>\n",
       "      <td>1</td>\n",
       "      <td>BURGLARY</td>\n",
       "      <td>30</td>\n",
       "      <td>M</td>\n",
       "      <td>H</td>\n",
       "      <td>MULTI-UNIT DWELLING (APARTMENT, DUPLEX, ETC)</td>\n",
       "      <td>NaN</td>\n",
       "      <td>IC</td>\n",
       "      <td>Invest Cont</td>\n",
       "      <td>800 W  54TH                         ST</td>\n",
       "    </tr>\n",
       "    <tr>\n",
       "      <th>...</th>\n",
       "      <td>...</td>\n",
       "      <td>...</td>\n",
       "      <td>...</td>\n",
       "      <td>...</td>\n",
       "      <td>...</td>\n",
       "      <td>...</td>\n",
       "      <td>...</td>\n",
       "      <td>...</td>\n",
       "      <td>...</td>\n",
       "      <td>...</td>\n",
       "      <td>...</td>\n",
       "      <td>...</td>\n",
       "      <td>...</td>\n",
       "      <td>...</td>\n",
       "      <td>...</td>\n",
       "    </tr>\n",
       "    <tr>\n",
       "      <th>1046971</th>\n",
       "      <td>242106553</td>\n",
       "      <td>03/04/2024 12:00:00 AM</td>\n",
       "      <td>2016-03-25</td>\n",
       "      <td>1200</td>\n",
       "      <td>Topanga</td>\n",
       "      <td>2</td>\n",
       "      <td>OTHER MISCELLANEOUS CRIME</td>\n",
       "      <td>19</td>\n",
       "      <td>F</td>\n",
       "      <td>A</td>\n",
       "      <td>SINGLE FAMILY DWELLING</td>\n",
       "      <td>NaN</td>\n",
       "      <td>IC</td>\n",
       "      <td>Invest Cont</td>\n",
       "      <td>22500    SCHOOLCRAFT                  ST</td>\n",
       "    </tr>\n",
       "    <tr>\n",
       "      <th>1237851</th>\n",
       "      <td>242106857</td>\n",
       "      <td>03/13/2024 12:00:00 AM</td>\n",
       "      <td>2016-01-13</td>\n",
       "      <td>1526</td>\n",
       "      <td>Topanga</td>\n",
       "      <td>2</td>\n",
       "      <td>THEFT OF IDENTITY</td>\n",
       "      <td>25</td>\n",
       "      <td>F</td>\n",
       "      <td>B</td>\n",
       "      <td>MULTI-UNIT DWELLING (APARTMENT, DUPLEX, ETC)</td>\n",
       "      <td>NaN</td>\n",
       "      <td>IC</td>\n",
       "      <td>Invest Cont</td>\n",
       "      <td>6700    INDEPENDENCE                 AV</td>\n",
       "    </tr>\n",
       "    <tr>\n",
       "      <th>1463848</th>\n",
       "      <td>242106857</td>\n",
       "      <td>03/13/2024 12:00:00 AM</td>\n",
       "      <td>2016-01-13</td>\n",
       "      <td>1526</td>\n",
       "      <td>Topanga</td>\n",
       "      <td>2</td>\n",
       "      <td>THEFT OF IDENTITY</td>\n",
       "      <td>25</td>\n",
       "      <td>F</td>\n",
       "      <td>B</td>\n",
       "      <td>MULTI-UNIT DWELLING (APARTMENT, DUPLEX, ETC)</td>\n",
       "      <td>NaN</td>\n",
       "      <td>IC</td>\n",
       "      <td>Invest Cont</td>\n",
       "      <td>6700    INDEPENDENCE                 AV</td>\n",
       "    </tr>\n",
       "    <tr>\n",
       "      <th>1199684</th>\n",
       "      <td>242108843</td>\n",
       "      <td>05/06/2024 12:00:00 AM</td>\n",
       "      <td>2016-05-27</td>\n",
       "      <td>655</td>\n",
       "      <td>Topanga</td>\n",
       "      <td>2</td>\n",
       "      <td>THEFT OF IDENTITY</td>\n",
       "      <td>39</td>\n",
       "      <td>F</td>\n",
       "      <td>O</td>\n",
       "      <td>MULTI-UNIT DWELLING (APARTMENT, DUPLEX, ETC)</td>\n",
       "      <td>NaN</td>\n",
       "      <td>IC</td>\n",
       "      <td>Invest Cont</td>\n",
       "      <td>6200    DE SOTO                      AV</td>\n",
       "    </tr>\n",
       "    <tr>\n",
       "      <th>1425524</th>\n",
       "      <td>242108843</td>\n",
       "      <td>05/06/2024 12:00:00 AM</td>\n",
       "      <td>2016-05-27</td>\n",
       "      <td>655</td>\n",
       "      <td>Topanga</td>\n",
       "      <td>2</td>\n",
       "      <td>THEFT OF IDENTITY</td>\n",
       "      <td>39</td>\n",
       "      <td>F</td>\n",
       "      <td>O</td>\n",
       "      <td>MULTI-UNIT DWELLING (APARTMENT, DUPLEX, ETC)</td>\n",
       "      <td>NaN</td>\n",
       "      <td>IC</td>\n",
       "      <td>Invest Cont</td>\n",
       "      <td>6200    DE SOTO                      AV</td>\n",
       "    </tr>\n",
       "  </tbody>\n",
       "</table>\n",
       "<p>231574 rows × 15 columns</p>\n",
       "</div>"
      ],
      "text/plain": [
       "             dr_no               date rptd   date occ  time occ    area name  \\\n",
       "1130670  161206510  02/05/2016 12:00:00 AM 2016-02-05       700  77th Street   \n",
       "1356399  161206510  02/05/2016 12:00:00 AM 2016-02-05       700  77th Street   \n",
       "1120980  161206511  02/06/2016 12:00:00 AM 2016-02-06       620  77th Street   \n",
       "1346672  161206511  02/06/2016 12:00:00 AM 2016-02-06       620  77th Street   \n",
       "1191452  161206512  02/05/2016 12:00:00 AM 2016-02-05       700  77th Street   \n",
       "...            ...                     ...        ...       ...          ...   \n",
       "1046971  242106553  03/04/2024 12:00:00 AM 2016-03-25      1200      Topanga   \n",
       "1237851  242106857  03/13/2024 12:00:00 AM 2016-01-13      1526      Topanga   \n",
       "1463848  242106857  03/13/2024 12:00:00 AM 2016-01-13      1526      Topanga   \n",
       "1199684  242108843  05/06/2024 12:00:00 AM 2016-05-27       655      Topanga   \n",
       "1425524  242108843  05/06/2024 12:00:00 AM 2016-05-27       655      Topanga   \n",
       "\n",
       "         part 1-2                                        crm cd desc  \\\n",
       "1130670         1  THEFT-GRAND ($950.01 & OVER)EXCPT,GUNS,FOWL,LI...   \n",
       "1356399         1  THEFT-GRAND ($950.01 & OVER)EXCPT,GUNS,FOWL,LI...   \n",
       "1120980         2           VANDALISM - MISDEAMEANOR ($399 OR UNDER)   \n",
       "1346672         2           VANDALISM - MISDEAMEANOR ($399 OR UNDER)   \n",
       "1191452         1                                           BURGLARY   \n",
       "...           ...                                                ...   \n",
       "1046971         2                          OTHER MISCELLANEOUS CRIME   \n",
       "1237851         2                                  THEFT OF IDENTITY   \n",
       "1463848         2                                  THEFT OF IDENTITY   \n",
       "1199684         2                                  THEFT OF IDENTITY   \n",
       "1425524         2                                  THEFT OF IDENTITY   \n",
       "\n",
       "         vict age vict sex vict descent  \\\n",
       "1130670        51        M            H   \n",
       "1356399        51        M            H   \n",
       "1120980        29        M            H   \n",
       "1346672        29        M            H   \n",
       "1191452        30        M            H   \n",
       "...           ...      ...          ...   \n",
       "1046971        19        F            A   \n",
       "1237851        25        F            B   \n",
       "1463848        25        F            B   \n",
       "1199684        39        F            O   \n",
       "1425524        39        F            O   \n",
       "\n",
       "                                          premis desc weapon desc status  \\\n",
       "1130670                                AUTO SALES LOT         NaN     IC   \n",
       "1356399                                AUTO SALES LOT         NaN     IC   \n",
       "1120980                          RESTAURANT/FAST FOOD         NaN     IC   \n",
       "1346672                          RESTAURANT/FAST FOOD         NaN     IC   \n",
       "1191452  MULTI-UNIT DWELLING (APARTMENT, DUPLEX, ETC)         NaN     IC   \n",
       "...                                               ...         ...    ...   \n",
       "1046971                        SINGLE FAMILY DWELLING         NaN     IC   \n",
       "1237851  MULTI-UNIT DWELLING (APARTMENT, DUPLEX, ETC)         NaN     IC   \n",
       "1463848  MULTI-UNIT DWELLING (APARTMENT, DUPLEX, ETC)         NaN     IC   \n",
       "1199684  MULTI-UNIT DWELLING (APARTMENT, DUPLEX, ETC)         NaN     IC   \n",
       "1425524  MULTI-UNIT DWELLING (APARTMENT, DUPLEX, ETC)         NaN     IC   \n",
       "\n",
       "         status desc                                  location  \n",
       "1130670  Invest Cont    900 W  FLORENCE                     AV  \n",
       "1356399  Invest Cont    900 W  FLORENCE                     AV  \n",
       "1120980  Invest Cont    100 W  MANCHESTER                   AV  \n",
       "1346672  Invest Cont    100 W  MANCHESTER                   AV  \n",
       "1191452  Invest Cont    800 W  54TH                         ST  \n",
       "...              ...                                       ...  \n",
       "1046971  Invest Cont  22500    SCHOOLCRAFT                  ST  \n",
       "1237851  Invest Cont   6700    INDEPENDENCE                 AV  \n",
       "1463848  Invest Cont   6700    INDEPENDENCE                 AV  \n",
       "1199684  Invest Cont   6200    DE SOTO                      AV  \n",
       "1425524  Invest Cont   6200    DE SOTO                      AV  \n",
       "\n",
       "[231574 rows x 15 columns]"
      ]
     },
     "execution_count": 11,
     "metadata": {},
     "output_type": "execute_result"
    }
   ],
   "source": [
    "# get the duplicate records \n",
    "la_data[la_data.duplicated(subset=\"dr_no\",keep=False)].sort_values(by=\"dr_no\")"
   ]
  },
  {
   "cell_type": "code",
   "execution_count": 12,
   "id": "356bf40b-7f9b-4911-a259-9e7e1a75a590",
   "metadata": {},
   "outputs": [],
   "source": [
    "la_data = la_data.drop_duplicates(subset=\"dr_no\",keep=\"first\")"
   ]
  },
  {
   "cell_type": "markdown",
   "id": "b1606259-c039-4414-8146-fa940d2caeed",
   "metadata": {},
   "source": [
    "### Exploring and Cleaning "
   ]
  },
  {
   "cell_type": "code",
   "execution_count": 13,
   "id": "bf4271bf-9d5c-425a-914c-b1e8af044960",
   "metadata": {},
   "outputs": [
    {
     "data": {
      "text/plain": [
       "(1081884, 15)"
      ]
     },
     "execution_count": 13,
     "metadata": {},
     "output_type": "execute_result"
    }
   ],
   "source": [
    "la_data.shape"
   ]
  },
  {
   "cell_type": "code",
   "execution_count": 14,
   "id": "8b97eef1-ed03-4972-bac8-50c5e2a52ded",
   "metadata": {},
   "outputs": [
    {
     "data": {
      "text/plain": [
       "dr_no                0\n",
       "date rptd            0\n",
       "date occ             0\n",
       "time occ             0\n",
       "area name            0\n",
       "part 1-2             0\n",
       "crm cd desc          0\n",
       "vict age             0\n",
       "vict sex        101880\n",
       "vict descent    101906\n",
       "premis desc        149\n",
       "weapon desc     712957\n",
       "status               1\n",
       "status desc          0\n",
       "location             0\n",
       "dtype: int64"
      ]
     },
     "execution_count": 14,
     "metadata": {},
     "output_type": "execute_result"
    }
   ],
   "source": [
    "la_data.isnull().sum()"
   ]
  },
  {
   "cell_type": "markdown",
   "id": "a4f23618-4fea-4bf3-9516-a80c1eda8731",
   "metadata": {},
   "source": [
    "##### Vict Age column"
   ]
  },
  {
   "cell_type": "code",
   "execution_count": 15,
   "id": "7e42c37e-da3e-4843-8327-6f9db9afb6e6",
   "metadata": {},
   "outputs": [
    {
     "data": {
      "text/plain": [
       "vict age\n",
       " 118         1\n",
       "-8           2\n",
       "-7           2\n",
       "-6           3\n",
       "-5          11\n",
       "         ...  \n",
       " 28      24008\n",
       " 27      24184\n",
       " 25      24206\n",
       " 26      24374\n",
       " 0      199123\n",
       "Name: count, Length: 108, dtype: int64"
      ]
     },
     "execution_count": 15,
     "metadata": {},
     "output_type": "execute_result"
    }
   ],
   "source": [
    "la_data[\"vict age\"].value_counts().sort_values()"
   ]
  },
  {
   "cell_type": "code",
   "execution_count": 16,
   "id": "c7cfb058-f875-4f95-afee-bd7f526f5ba7",
   "metadata": {},
   "outputs": [
    {
     "data": {
      "text/plain": [
       "vict age\n",
       " 0    199123\n",
       "-1       141\n",
       "-2        71\n",
       "-3        55\n",
       "-4        17\n",
       "-5        11\n",
       "-6         3\n",
       "-8         2\n",
       "-7         2\n",
       "Name: count, dtype: int64"
      ]
     },
     "execution_count": 16,
     "metadata": {},
     "output_type": "execute_result"
    }
   ],
   "source": [
    "# Age col containing value equal to 0 or less which donot make sense \n",
    "la_data[la_data[\"vict age\"] <= 0][\"vict age\"].value_counts()"
   ]
  },
  {
   "cell_type": "code",
   "execution_count": 17,
   "id": "facdd36e-e4f0-4259-bc98-f18076a65a6a",
   "metadata": {},
   "outputs": [],
   "source": [
    "# Replacing all values which are 0 or less than with UnKnown "
   ]
  },
  {
   "cell_type": "code",
   "execution_count": 18,
   "id": "ab4a4ddc-0e51-4ac3-b69d-6128d69856da",
   "metadata": {},
   "outputs": [],
   "source": [
    "la_data[\"vict age\"] = la_data[\"vict age\"].apply(lambda x: x if x > 0 else \"UnKnown\")"
   ]
  },
  {
   "cell_type": "code",
   "execution_count": 19,
   "id": "46e186d4-2d9a-42c5-a20f-74b0ebe1bf3b",
   "metadata": {},
   "outputs": [
    {
     "data": {
      "text/plain": [
       "vict age\n",
       "UnKnown    199425\n",
       "26          24374\n",
       "25          24206\n",
       "27          24184\n",
       "28          24008\n",
       "            ...  \n",
       "95            145\n",
       "96            108\n",
       "97            102\n",
       "98             80\n",
       "118             1\n",
       "Name: count, Length: 100, dtype: int64"
      ]
     },
     "execution_count": 19,
     "metadata": {},
     "output_type": "execute_result"
    }
   ],
   "source": [
    "la_data[\"vict age\"].value_counts()"
   ]
  },
  {
   "cell_type": "code",
   "execution_count": 20,
   "id": "63466298-ae7c-4dc7-94a1-0ea0827b4e95",
   "metadata": {},
   "outputs": [
    {
     "data": {
      "text/plain": [
       "np.int64(0)"
      ]
     },
     "execution_count": 20,
     "metadata": {},
     "output_type": "execute_result"
    }
   ],
   "source": [
    "la_data[\"vict age\"].isnull().sum()"
   ]
  },
  {
   "cell_type": "markdown",
   "id": "b03aa8ff-6710-4820-9234-83a5113572e4",
   "metadata": {},
   "source": [
    "##### Vict Sex Column"
   ]
  },
  {
   "cell_type": "code",
   "execution_count": 21,
   "id": "b4ee2be7-b979-429c-b69c-628d2e906a12",
   "metadata": {},
   "outputs": [
    {
     "data": {
      "text/plain": [
       "np.int64(101880)"
      ]
     },
     "execution_count": 21,
     "metadata": {},
     "output_type": "execute_result"
    }
   ],
   "source": [
    "la_data[\"vict sex\"].isnull().sum()"
   ]
  },
  {
   "cell_type": "code",
   "execution_count": 22,
   "id": "72e33dc9-519b-4afa-8e4d-a415799fa184",
   "metadata": {},
   "outputs": [
    {
     "data": {
      "text/plain": [
       "vict sex\n",
       "M    489285\n",
       "F    441698\n",
       "X     48969\n",
       "H        35\n",
       "N        17\n",
       "Name: count, dtype: int64"
      ]
     },
     "execution_count": 22,
     "metadata": {},
     "output_type": "execute_result"
    }
   ],
   "source": [
    "la_data[\"vict sex\"].value_counts()"
   ]
  },
  {
   "cell_type": "code",
   "execution_count": 23,
   "id": "7483fbf2-5d3c-4a44-aa47-51f74984cac8",
   "metadata": {},
   "outputs": [],
   "source": [
    "#  In the dataset documentation there is only (F - Female M - Male X - Unknown) so i replace H & N with X"
   ]
  },
  {
   "cell_type": "code",
   "execution_count": 24,
   "id": "82a9421f-0d1c-4b89-9fee-a615a1368dd3",
   "metadata": {},
   "outputs": [],
   "source": [
    "la_data[\"vict sex\"] = la_data[\"vict sex\"].replace({\"H\":\"X\",\"N\":\"X\"})"
   ]
  },
  {
   "cell_type": "code",
   "execution_count": 25,
   "id": "88a00e89-960c-4bb1-8b50-6a9ea962bf6f",
   "metadata": {},
   "outputs": [
    {
     "data": {
      "text/plain": [
       "vict sex\n",
       "M    489285\n",
       "F    441698\n",
       "X     49021\n",
       "Name: count, dtype: int64"
      ]
     },
     "execution_count": 25,
     "metadata": {},
     "output_type": "execute_result"
    }
   ],
   "source": [
    "la_data[\"vict sex\"].value_counts()"
   ]
  },
  {
   "cell_type": "code",
   "execution_count": 26,
   "id": "22285a97-bb36-405d-88e1-27c91426accd",
   "metadata": {},
   "outputs": [],
   "source": [
    "# Replacing all the Missing value with X\n",
    "la_data[\"vict sex\"] = la_data[\"vict sex\"].fillna(\"X\")"
   ]
  },
  {
   "cell_type": "code",
   "execution_count": 27,
   "id": "7a6e34d5-2fef-4ea0-9ae8-757aa0d2c268",
   "metadata": {},
   "outputs": [
    {
     "data": {
      "text/plain": [
       "np.int64(0)"
      ]
     },
     "execution_count": 27,
     "metadata": {},
     "output_type": "execute_result"
    }
   ],
   "source": [
    "la_data[\"vict sex\"].isnull().sum()"
   ]
  },
  {
   "cell_type": "markdown",
   "id": "6a71d3b1-01b6-4347-b3ef-fc1d9bd193a3",
   "metadata": {},
   "source": [
    "##### Vict Descent column"
   ]
  },
  {
   "cell_type": "code",
   "execution_count": 28,
   "id": "43ad58ae-845b-4874-9d15-46cb58254e8e",
   "metadata": {},
   "outputs": [
    {
     "data": {
      "text/plain": [
       "np.int64(101906)"
      ]
     },
     "execution_count": 28,
     "metadata": {},
     "output_type": "execute_result"
    }
   ],
   "source": [
    "la_data[\"vict descent\"].isnull().sum()"
   ]
  },
  {
   "cell_type": "code",
   "execution_count": 29,
   "id": "5ccb07c7-cbdb-40fa-84ed-59a0a823f773",
   "metadata": {},
   "outputs": [
    {
     "data": {
      "text/plain": [
       "array(['H', 'B', 'O', 'W', nan, 'X', 'A', 'K', 'V', 'F', 'C', 'G', 'I',\n",
       "       'J', 'P', 'U', 'S', 'Z', 'L', 'D', '-'], dtype=object)"
      ]
     },
     "execution_count": 29,
     "metadata": {},
     "output_type": "execute_result"
    }
   ],
   "source": [
    "la_data[\"vict descent\"].unique()"
   ]
  },
  {
   "cell_type": "code",
   "execution_count": 30,
   "id": "1f4b54c8-3ed5-4b24-8d56-aabc0e8e9612",
   "metadata": {},
   "outputs": [],
   "source": [
    "descent_mapping = {\n",
    "    'A': 'Other Asian',\n",
    "    'B': 'Black',\n",
    "    'C': 'Chinese',\n",
    "    'D': 'Cambodian',\n",
    "    'F': 'Filipino',\n",
    "    'G': 'Guamanian',\n",
    "    'H': 'Hispanic/Latin/Mexican',\n",
    "    'I': 'American Indian/Alaskan Native',\n",
    "    'J': 'Japanese',\n",
    "    'K': 'Korean',\n",
    "    'L': 'Laotian',\n",
    "    'O': 'Other',\n",
    "    'P': 'Pacific Islander',\n",
    "    'S': 'Samoan',\n",
    "    'U': 'Hawaiian',\n",
    "    'V': 'Vietnamese',\n",
    "    'W': 'White',\n",
    "    'X': 'Unknown',\n",
    "    'Z': 'Asian Indian',\n",
    "    '-': 'Unknown'\n",
    "}\n",
    "la_data[\"vict descent\"] = la_data[\"vict descent\"].map(descent_mapping)"
   ]
  },
  {
   "cell_type": "code",
   "execution_count": 31,
   "id": "84cafb94-7087-49d6-b136-b28b5c021f87",
   "metadata": {},
   "outputs": [],
   "source": [
    "# Replacing all the missing values with UnKnown\n",
    "la_data[\"vict descent\"] = la_data[\"vict descent\"].fillna(\"UnKnown\")"
   ]
  },
  {
   "cell_type": "code",
   "execution_count": 32,
   "id": "6e7cbecd-8359-4aa7-aef1-fbd97df1a918",
   "metadata": {},
   "outputs": [
    {
     "data": {
      "text/plain": [
       "np.int64(0)"
      ]
     },
     "execution_count": 32,
     "metadata": {},
     "output_type": "execute_result"
    }
   ],
   "source": [
    "la_data[\"vict descent\"].isnull().sum()"
   ]
  },
  {
   "cell_type": "code",
   "execution_count": 33,
   "id": "93dfda22-e4cf-4263-8504-e34d6d32c9f3",
   "metadata": {},
   "outputs": [
    {
     "data": {
      "text/plain": [
       "vict descent\n",
       "Hispanic/Latin/Mexican            365639\n",
       "White                             248525\n",
       "Black                             163877\n",
       "Other                             105344\n",
       "UnKnown                           101906\n",
       "Unknown                            60379\n",
       "Other Asian                        28199\n",
       "Korean                              4566\n",
       "Filipino                            1256\n",
       "Chinese                              749\n",
       "American Indian/Alaskan Native       559\n",
       "Japanese                             254\n",
       "Pacific Islander                     183\n",
       "Vietnamese                           151\n",
       "Hawaiian                             103\n",
       "Asian Indian                         102\n",
       "Guamanian                             53\n",
       "Samoan                                16\n",
       "Laotian                               12\n",
       "Cambodian                             11\n",
       "Name: count, dtype: int64"
      ]
     },
     "execution_count": 33,
     "metadata": {},
     "output_type": "execute_result"
    }
   ],
   "source": [
    "la_data[\"vict descent\"].value_counts()"
   ]
  },
  {
   "cell_type": "code",
   "execution_count": 34,
   "id": "f46ac0fa-83b7-4e84-bb61-cc44a04955cc",
   "metadata": {},
   "outputs": [],
   "source": [
    "# above i got two separate UnKnown and both are same so, we replace it\n",
    "la_data[\"vict descent\"] = la_data[\"vict descent\"].replace(\"Unknown\",\"UnKnown\")"
   ]
  },
  {
   "cell_type": "code",
   "execution_count": 35,
   "id": "42934043-ae8f-46f4-bda7-d031e05654c8",
   "metadata": {},
   "outputs": [
    {
     "data": {
      "text/plain": [
       "vict descent\n",
       "Hispanic/Latin/Mexican            365639\n",
       "White                             248525\n",
       "Black                             163877\n",
       "UnKnown                           162285\n",
       "Other                             105344\n",
       "Other Asian                        28199\n",
       "Korean                              4566\n",
       "Filipino                            1256\n",
       "Chinese                              749\n",
       "American Indian/Alaskan Native       559\n",
       "Japanese                             254\n",
       "Pacific Islander                     183\n",
       "Vietnamese                           151\n",
       "Hawaiian                             103\n",
       "Asian Indian                         102\n",
       "Guamanian                             53\n",
       "Samoan                                16\n",
       "Laotian                               12\n",
       "Cambodian                             11\n",
       "Name: count, dtype: int64"
      ]
     },
     "execution_count": 35,
     "metadata": {},
     "output_type": "execute_result"
    }
   ],
   "source": [
    "la_data[\"vict descent\"].value_counts()"
   ]
  },
  {
   "cell_type": "markdown",
   "id": "1f16c0b3-f0af-4920-9745-e1f089a2a153",
   "metadata": {},
   "source": [
    "##### Premis Desc Column"
   ]
  },
  {
   "cell_type": "code",
   "execution_count": 36,
   "id": "b6d10f3d-a996-4499-84e3-dcf04a3a3e14",
   "metadata": {},
   "outputs": [
    {
     "data": {
      "text/plain": [
       "np.int64(149)"
      ]
     },
     "execution_count": 36,
     "metadata": {},
     "output_type": "execute_result"
    }
   ],
   "source": [
    "la_data[\"premis desc\"].isnull().sum()"
   ]
  },
  {
   "cell_type": "code",
   "execution_count": 37,
   "id": "9f844f51-9981-4208-a29d-f8d476eb10f8",
   "metadata": {},
   "outputs": [
    {
     "data": {
      "text/plain": [
       "premis desc\n",
       "STREET                                                      244916\n",
       "SINGLE FAMILY DWELLING                                      205305\n",
       "MULTI-UNIT DWELLING (APARTMENT, DUPLEX, ETC)                127823\n",
       "PARKING LOT                                                  79034\n",
       "SIDEWALK                                                     54335\n",
       "OTHER BUSINESS                                               48102\n",
       "VEHICLE, PASSENGER/TRUCK                                     40540\n",
       "DRIVEWAY                                                     22347\n",
       "GARAGE/CARPORT                                               19030\n",
       "RESTAURANT/FAST FOOD                                         16752\n",
       "DEPARTMENT STORE                                             14273\n",
       "MARKET                                                       11202\n",
       "PARKING UNDERGROUND/BUILDING                                 10095\n",
       "OTHER STORE                                                   8735\n",
       "PARK/PLAYGROUND                                               7787\n",
       "ALLEY                                                         7393\n",
       "YARD (RESIDENTIAL/BUSINESS)                                   7034\n",
       "OTHER PREMISE                                                 5965\n",
       "GAS STATION                                                   5908\n",
       "HIGH SCHOOL                                                   5654\n",
       "HOTEL                                                         5164\n",
       "DRUG STORE                                                    5140\n",
       "OTHER RESIDENCE                                               4565\n",
       "MINI-MART                                                     4520\n",
       "PUBLIC STORAGE                                                4362\n",
       "TRANSPORTATION FACILITY (AIRPORT)                             3871\n",
       "JUNIOR HIGH SCHOOL                                            3615\n",
       "ELEMENTARY SCHOOL                                             3304\n",
       "OFFICE BUILDING/OFFICE                                        3214\n",
       "BANK                                                          3147\n",
       "HEALTH SPA/GYM                                                3048\n",
       "HOSPITAL                                                      3001\n",
       "CLOTHING STORE                                                2892\n",
       "MOTEL                                                         2855\n",
       "LIQUOR STORE                                                  2825\n",
       "POLICE FACILITY                                               2760\n",
       "PORCH, RESIDENTIAL                                            2755\n",
       "CELL PHONE STORE                                              2752\n",
       "BUS STOP                                                      2499\n",
       "CHURCH/CHAPEL (CHANGED 03-03 FROM CHURCH/TEMPLE)              2368\n",
       "COLLEGE/JUNIOR COLLEGE/UNIVERSITY                             2223\n",
       "CONDOMINIUM/TOWNHOUSE                                         2179\n",
       "DIY CENTER (LOWE'S,HOME DEPOT,OSH,CONTRACTORS WAREHOUSE)      2101\n",
       "CONSTRUCTION SITE                                             2087\n",
       "LAUNDROMAT                                                    2058\n",
       "MTA BUS                                                       2045\n",
       "COFFEE SHOP (STARBUCKS, COFFEE BEAN, PEET'S, ETC.)            2030\n",
       "NIGHT CLUB (OPEN EVENINGS ONLY)                               1993\n",
       "SHOPPING MALL (COMMON AREA)                                   1896\n",
       "GOVERNMENT FACILITY (FEDERAL,STATE, COUNTY & CITY)            1599\n",
       "BAR/COCKTAIL/NIGHTCLUB                                        1573\n",
       "LIBRARY                                                       1569\n",
       "NURSING/CONVALESCENT/RETIREMENT HOME                          1546\n",
       "MEDICAL/DENTAL OFFICES                                        1517\n",
       "MISSIONS/SHELTERS                                             1512\n",
       "OTHER/OUTSIDE                                                 1506\n",
       "DISCOUNT STORE (99 CENT,DOLLAR,ETC.                           1308\n",
       "AUTO REPAIR SHOP                                              1290\n",
       "STORAGE SHED                                                  1261\n",
       "SPECIALTY SCHOOL/OTHER                                        1116\n",
       "Name: count, dtype: int64"
      ]
     },
     "execution_count": 37,
     "metadata": {},
     "output_type": "execute_result"
    }
   ],
   "source": [
    "la_data[\"premis desc\"].value_counts().head(60)"
   ]
  },
  {
   "cell_type": "code",
   "execution_count": 38,
   "id": "382b73f5-6500-4f47-aab3-04d58458b906",
   "metadata": {},
   "outputs": [],
   "source": [
    "la_data[\"premis desc\"] = la_data[\"premis desc\"].fillna('UnKnown')"
   ]
  },
  {
   "cell_type": "code",
   "execution_count": 39,
   "id": "e9e3cccd-01c7-4dac-b940-7aa4a9391379",
   "metadata": {},
   "outputs": [
    {
     "data": {
      "text/plain": [
       "np.int64(0)"
      ]
     },
     "execution_count": 39,
     "metadata": {},
     "output_type": "execute_result"
    }
   ],
   "source": [
    "la_data[\"premis desc\"].isnull().sum()"
   ]
  },
  {
   "cell_type": "code",
   "execution_count": 40,
   "id": "883bb617-36db-4f34-9b5c-ee248bd01643",
   "metadata": {},
   "outputs": [],
   "source": [
    "la_data[\"premis desc\"] = la_data[\"premis desc\"].str.strip().str.upper()"
   ]
  },
  {
   "cell_type": "code",
   "execution_count": 41,
   "id": "026a062b-7200-4071-815c-eec6050ed310",
   "metadata": {},
   "outputs": [
    {
     "data": {
      "text/plain": [
       "premis desc\n",
       "STREET                                          244916\n",
       "SINGLE FAMILY DWELLING                          205305\n",
       "MULTI-UNIT DWELLING (APARTMENT, DUPLEX, ETC)    127823\n",
       "PARKING LOT                                      79034\n",
       "SIDEWALK                                         54335\n",
       "                                                 ...  \n",
       "MTA - ORANGE LINE - WARNER CTR                       2\n",
       "MTA - ORANGE LINE - WOODMAN                          2\n",
       "MTA - SILVER LINE - LAC/USC MEDICAL CENTER           2\n",
       "REDLINE SUBWAY RAIL CAR (INSIDE TRAIN)               1\n",
       "NUCLEAR FACILITY                                     1\n",
       "Name: count, Length: 315, dtype: int64"
      ]
     },
     "execution_count": 41,
     "metadata": {},
     "output_type": "execute_result"
    }
   ],
   "source": [
    "la_data[\"premis desc\"].value_counts()"
   ]
  },
  {
   "cell_type": "markdown",
   "id": "50143432-f5cd-4543-b70d-74b2d9a93af7",
   "metadata": {},
   "source": [
    "##### Weapon Desc Column"
   ]
  },
  {
   "cell_type": "code",
   "execution_count": 42,
   "id": "1b1c7313-cbc2-4c74-99ab-3c85b6fed8b1",
   "metadata": {},
   "outputs": [
    {
     "data": {
      "text/plain": [
       "weapon desc\n",
       "STRONG-ARM (HANDS, FIST, FEET OR BODILY FORCE)    220365\n",
       "UNKNOWN WEAPON/OTHER WEAPON                        32095\n",
       "VERBAL THREAT                                      28655\n",
       "HAND GUN                                           17799\n",
       "KNIFE WITH BLADE 6INCHES OR LESS                    7107\n",
       "                                                   ...  \n",
       "ANTIQUE FIREARM                                        5\n",
       "UZI SEMIAUTOMATIC ASSAULT RIFLE                        4\n",
       "M1-1 SEMIAUTOMATIC ASSAULT RIFLE                       3\n",
       "HECKLER & KOCH 91 SEMIAUTOMATIC ASSAULT RIFLE          2\n",
       "MAC-11 SEMIAUTOMATIC ASSAULT WEAPON                    2\n",
       "Name: count, Length: 78, dtype: int64"
      ]
     },
     "execution_count": 42,
     "metadata": {},
     "output_type": "execute_result"
    }
   ],
   "source": [
    "la_data[\"weapon desc\"].value_counts()"
   ]
  },
  {
   "cell_type": "code",
   "execution_count": 43,
   "id": "718a11a7-550f-4ab7-9fd3-4fc668ce1396",
   "metadata": {},
   "outputs": [
    {
     "data": {
      "text/plain": [
       "np.int64(712957)"
      ]
     },
     "execution_count": 43,
     "metadata": {},
     "output_type": "execute_result"
    }
   ],
   "source": [
    "la_data[\"weapon desc\"].isnull().sum()"
   ]
  },
  {
   "cell_type": "code",
   "execution_count": 44,
   "id": "8529914b-761c-43ac-87f6-0b41f20acf7c",
   "metadata": {},
   "outputs": [
    {
     "data": {
      "text/plain": [
       "crm cd desc\n",
       "VEHICLE - STOLEN                                            82135\n",
       "BURGLARY FROM VEHICLE                                       77450\n",
       "THEFT PLAIN - PETTY ($950 & UNDER)                          70682\n",
       "BURGLARY                                                    64191\n",
       "THEFT OF IDENTITY                                           60331\n",
       "VANDALISM - FELONY ($400 & OVER, ALL CHURCH VANDALISMS)     56037\n",
       "THEFT FROM MOTOR VEHICLE - PETTY ($950 & UNDER)             49701\n",
       "VANDALISM - MISDEAMEANOR ($399 OR UNDER)                    36756\n",
       "THEFT-GRAND ($950.01 & OVER)EXCPT,GUNS,FOWL,LIVESTK,PROD    33478\n",
       "SHOPLIFTING - PETTY THEFT ($950 & UNDER)                    28680\n",
       "THEFT FROM MOTOR VEHICLE - GRAND ($950.01 AND OVER)         17367\n",
       "TRESPASSING                                                 13129\n",
       "BIKE - STOLEN                                               10991\n",
       "VIOLATION OF RESTRAINING ORDER                              10132\n",
       "DOCUMENT FORGERY / STOLEN FELONY                             9948\n",
       "LETTERS, LEWD  -  TELEPHONE CALLS, LEWD                      8471\n",
       "VIOLATION OF COURT ORDER                                     7780\n",
       "OTHER MISCELLANEOUS CRIME                                    7760\n",
       "BUNCO, GRAND THEFT                                           6668\n",
       "BURGLARY, ATTEMPTED                                          5350\n",
       "THEFT, PERSON                                                4483\n",
       "BUNCO, PETTY THEFT                                           3904\n",
       "EMBEZZLEMENT, GRAND THEFT ($950.01 & OVER)                   3835\n",
       "CONTEMPT OF COURT                                            3335\n",
       "SHOPLIFTING-GRAND THEFT ($950.01 & OVER)                     3323\n",
       "INTIMATE PARTNER - SIMPLE ASSAULT                            2743\n",
       "CRIMINAL THREATS - NO WEAPON DISPLAYED                       2298\n",
       "INDECENT EXPOSURE                                            1748\n",
       "VEHICLE - ATTEMPT STOLEN                                     1623\n",
       "CHILD ANNOYING (17YRS & UNDER)                               1564\n",
       "ARSON                                                        1551\n",
       "DISTURBING THE PEACE                                         1500\n",
       "EXTORTION                                                    1426\n",
       "CHILD NEGLECT (SEE 300 W.I.C.)                               1326\n",
       "SEX,UNLAWFUL(INC MUTUAL CONSENT, PENETRATION W/ FRGN OBJ     1245\n",
       "SEX OFFENDER REGISTRANT OUT OF COMPLIANCE                    1230\n",
       "BURGLARY FROM VEHICLE, ATTEMPTED                             1167\n",
       "DEFRAUDING INNKEEPER/THEFT OF SERVICES, $950 & UNDER         1002\n",
       "VIOLATION OF TEMPORARY RESTRAINING ORDER                      935\n",
       "UNAUTHORIZED COMPUTER ACCESS                                  905\n",
       "BATTERY - SIMPLE ASSAULT                                      853\n",
       "PICKPOCKET                                                    761\n",
       "THEFT FROM MOTOR VEHICLE - ATTEMPT                            706\n",
       "LEWD CONDUCT                                                  697\n",
       "THEFT PLAIN - ATTEMPT                                         672\n",
       "PEEPING TOM                                                   582\n",
       "BUNCO, ATTEMPT                                                567\n",
       "FAILURE TO YIELD                                              445\n",
       "RESISTING ARREST                                              433\n",
       "CHILD STEALING                                                432\n",
       "PROWLER                                                       399\n",
       "CREDIT CARDS, FRAUD USE ($950.01 & OVER)                      382\n",
       "STALKING                                                      378\n",
       "THREATENING PHONE CALLS/LETTERS                               337\n",
       "HUMAN TRAFFICKING - COMMERCIAL SEX ACTS                       325\n",
       "COUNTERFEIT                                                   314\n",
       "EMBEZZLEMENT, PETTY THEFT ($950 & UNDER)                      306\n",
       "THROWING OBJECT AT MOVING VEHICLE                             279\n",
       "PURSE SNATCHING                                               266\n",
       "DRIVING WITHOUT OWNER CONSENT (DWOC)                          261\n",
       "Name: count, dtype: int64"
      ]
     },
     "execution_count": 44,
     "metadata": {},
     "output_type": "execute_result"
    }
   ],
   "source": [
    "# too many missing values \n",
    "res = la_data[la_data[\"weapon desc\"].isnull()][[\"crm cd desc\",\"weapon desc\"]]\n",
    "res[\"crm cd desc\"].value_counts().head(60)"
   ]
  },
  {
   "cell_type": "markdown",
   "id": "ad7df8a4-204b-4da1-aa64-799c2caff8fb",
   "metadata": {},
   "source": [
    "### Why weapon desc col contain too many missing values?\n",
    "##### Most of the crimes with missing weapon descriptions are non-violent crimes like:\n",
    "##### Theft and burglary (e.g., stolen cars, shoplifting, identity theft)\n",
    "##### Fraud and computer crimes (e.g., forgery, embezzlement, hacking)\n",
    "##### Court and restraining order violations\n",
    "##### Sex-related offenses that usually don’t involve weapons\n",
    "##### This tells us that in many of these crimes, weapons were not used or not reported because they were not needed to commit the crime.\n",
    "##### So, the missing weapon info makes sense — it mostly happens in cases where a weapon was likely not involved."
   ]
  },
  {
   "cell_type": "markdown",
   "id": "dce00ae9-1f6a-4152-913d-f001d5d28836",
   "metadata": {},
   "source": [
    "DECISION:\n",
    "Since most of the crimes in the dataset (like theft, identity fraud, vandalism, etc.) typically do not involve weapons,\n",
    "we observed that the weapon_desc column has a large number of missing values\n",
    "To handle this in a meaningful way:\n",
    "We decided to create a new column called weapon_used, which will indicate whether a weapon was used in the crime (Yes or No).\n",
    "We also replaced missing values in weapon_desc with \"No Weapon\" for consistency\n",
    "and to avoid issues in machine learning models that don't accept null values."
   ]
  },
  {
   "cell_type": "code",
   "execution_count": 45,
   "id": "3b42aa28-5ef4-403a-8d9b-d40b95983c69",
   "metadata": {},
   "outputs": [],
   "source": [
    "# create new col name \"weapon used\"\n",
    "la_data[\"weapon used\"] = la_data[\"weapon desc\"].notna().map({True:\"Yes\",False:\"No\"})"
   ]
  },
  {
   "cell_type": "code",
   "execution_count": 46,
   "id": "febd7dfc-d669-4e83-9360-71108105f605",
   "metadata": {},
   "outputs": [
    {
     "data": {
      "text/plain": [
       "weapon used\n",
       "No     712957\n",
       "Yes    368927\n",
       "Name: count, dtype: int64"
      ]
     },
     "execution_count": 46,
     "metadata": {},
     "output_type": "execute_result"
    }
   ],
   "source": [
    "la_data[\"weapon used\"].value_counts()"
   ]
  },
  {
   "cell_type": "code",
   "execution_count": 47,
   "id": "cea1a664-a3d7-47cd-b562-dce5c1585882",
   "metadata": {},
   "outputs": [],
   "source": [
    "# Replacing null values with \"No Weapon\"\n",
    "la_data[\"weapon desc\"] = la_data[\"weapon desc\"].fillna(\"No Weapon\")"
   ]
  },
  {
   "cell_type": "code",
   "execution_count": 48,
   "id": "387331d8-80a5-4336-924d-bbe499fd9d75",
   "metadata": {},
   "outputs": [
    {
     "data": {
      "text/plain": [
       "weapon desc\n",
       "No Weapon                                         712957\n",
       "STRONG-ARM (HANDS, FIST, FEET OR BODILY FORCE)    220365\n",
       "UNKNOWN WEAPON/OTHER WEAPON                        32095\n",
       "VERBAL THREAT                                      28655\n",
       "HAND GUN                                           17799\n",
       "                                                   ...  \n",
       "ANTIQUE FIREARM                                        5\n",
       "UZI SEMIAUTOMATIC ASSAULT RIFLE                        4\n",
       "M1-1 SEMIAUTOMATIC ASSAULT RIFLE                       3\n",
       "HECKLER & KOCH 91 SEMIAUTOMATIC ASSAULT RIFLE          2\n",
       "MAC-11 SEMIAUTOMATIC ASSAULT WEAPON                    2\n",
       "Name: count, Length: 79, dtype: int64"
      ]
     },
     "execution_count": 48,
     "metadata": {},
     "output_type": "execute_result"
    }
   ],
   "source": [
    "la_data[\"weapon desc\"].value_counts()"
   ]
  },
  {
   "cell_type": "code",
   "execution_count": 49,
   "id": "4d61a58c-52d8-449a-9bf7-25f754c85949",
   "metadata": {},
   "outputs": [
    {
     "data": {
      "text/plain": [
       "np.int64(0)"
      ]
     },
     "execution_count": 49,
     "metadata": {},
     "output_type": "execute_result"
    }
   ],
   "source": [
    "la_data[\"weapon desc\"].isnull().sum()"
   ]
  },
  {
   "cell_type": "markdown",
   "id": "b4eaf498-6619-4ce9-9bd2-b72472edd69c",
   "metadata": {},
   "source": [
    "To simplify analysis, we created a new column called weapon_category by grouping specific weapons from weapon_desc into broader types like \"Firearm\", \"Sharp Object\", \"Blunt Object\", etc. This makes it easier to analyze trends and visualize data without dealing with too many unique weapon types."
   ]
  },
  {
   "cell_type": "code",
   "execution_count": 50,
   "id": "03c4eea8-e1fa-4211-b873-d91a26d07ed5",
   "metadata": {},
   "outputs": [],
   "source": [
    "def weapon_category(weapon):\n",
    "    \n",
    "    # check isnull or not\n",
    "    if pd.isnull(weapon):\n",
    "        return \"UnKnown\"\n",
    "\n",
    "    # change into uppercase \n",
    "    weapon = weapon.upper()\n",
    "\n",
    "    if any(word in weapon for word in [\n",
    "        \"HAND GUN\", \"SEMI-AUTOMATIC\", \"REVOLVER\", \"RIFLE\", \"SHOTGUN\", \"BB GUN\", \n",
    "        \"ASSAULT WEAPON\", \"FIREARM\", \"TOY GUN\", \"STARTER PISTOL\", \"SIMULATED GUN\",\"AUTOMATIC WEAPON\",\"SUB-MACHINE GUN\"]):\n",
    "        return \"Firearm\"\n",
    "\n",
    "    elif any(word in weapon for word in [\"KNIFE\", \"BLADE\", \"MACHETE\", \"SCISSORS\", \"SCREWDRIVER\", \"CLEAVER\", \n",
    "        \"STRAIGHT RAZOR\", \"RAZOR\", \"ICE PICK\", \"DAGGER\", \"SWORD\"]):\n",
    "        return \"Knife/Sharp Object\"\n",
    "\n",
    "    elif any(word in weapon for word in [\"STICK\", \"BAT\", \"PIPE\", \"INSTRUMENT\", \"HAMMER\", \"BOARD\", \"TIRE IRON\", \n",
    "        \"AXE\", \"BRICK\", \"BLACKJACK\", \"BLOCK\", \"BELT\", \"CHAIN\",\"BOTTLE\",\"ROCK/THROWN OBJECT\",\"FIXED OBJECT\",\"BRASS KNUCKLES\"]):\n",
    "        return \"Blunt Object\"\n",
    "\n",
    "    elif any(word in weapon for word in [\"STRONG-ARM\", \"VERBAL THREAT\", \"PHYSICAL PRESENCE\", \"DOG\", \"ANIMAL\",\"No Weapon\"]):\n",
    "        return \"UnArmed/Bodily Force\"\n",
    "\n",
    "    elif any(word in weapon for word in [\"BOMB\", \"FIRE\", \"CHEMICAL\", \"EXPLOXIVE\", \"SCALDING\",\"MACE/PEPPER SPRAY\"]):\n",
    "        return \"Explosive/Fire/Chemical\"\n",
    "\n",
    "    elif any(word in weapon for word in [\"VEHICLE\", \"SYRINGE\", \"DEMAND NOTE\", \"LIQUOR\", \"ROPE\", \"GLASS\", \n",
    "        \"MARTIAL ARTS\", \"BOW\", \"UNKNOWN\", \"OTHER\", \"STUN GUN\"]):\n",
    "        return \"Other\"\n",
    "\n",
    "    else:\n",
    "        return \"UnKnown\""
   ]
  },
  {
   "cell_type": "code",
   "execution_count": 51,
   "id": "1dcb183a-325a-4f97-b5fe-2645fd47bb96",
   "metadata": {},
   "outputs": [],
   "source": [
    "la_data[\"weapon_category\"] = la_data[\"weapon desc\"].apply(weapon_category)"
   ]
  },
  {
   "cell_type": "code",
   "execution_count": 52,
   "id": "efe20d47-21db-4cae-a028-9f5d5750efe0",
   "metadata": {},
   "outputs": [
    {
     "data": {
      "text/html": [
       "<div>\n",
       "<style scoped>\n",
       "    .dataframe tbody tr th:only-of-type {\n",
       "        vertical-align: middle;\n",
       "    }\n",
       "\n",
       "    .dataframe tbody tr th {\n",
       "        vertical-align: top;\n",
       "    }\n",
       "\n",
       "    .dataframe thead th {\n",
       "        text-align: right;\n",
       "    }\n",
       "</style>\n",
       "<table border=\"1\" class=\"dataframe\">\n",
       "  <thead>\n",
       "    <tr style=\"text-align: right;\">\n",
       "      <th></th>\n",
       "      <th>dr_no</th>\n",
       "      <th>date rptd</th>\n",
       "      <th>date occ</th>\n",
       "      <th>time occ</th>\n",
       "      <th>area name</th>\n",
       "      <th>part 1-2</th>\n",
       "      <th>crm cd desc</th>\n",
       "      <th>vict age</th>\n",
       "      <th>vict sex</th>\n",
       "      <th>vict descent</th>\n",
       "      <th>premis desc</th>\n",
       "      <th>weapon desc</th>\n",
       "      <th>status</th>\n",
       "      <th>status desc</th>\n",
       "      <th>location</th>\n",
       "      <th>weapon used</th>\n",
       "      <th>weapon_category</th>\n",
       "    </tr>\n",
       "  </thead>\n",
       "  <tbody>\n",
       "    <tr>\n",
       "      <th>804945</th>\n",
       "      <td>152005022</td>\n",
       "      <td>01/21/2015 12:00:00 AM</td>\n",
       "      <td>2015-01-21</td>\n",
       "      <td>1415</td>\n",
       "      <td>Olympic</td>\n",
       "      <td>1</td>\n",
       "      <td>ASSAULT WITH DEADLY WEAPON, AGGRAVATED ASSAULT</td>\n",
       "      <td>28</td>\n",
       "      <td>F</td>\n",
       "      <td>Hispanic/Latin/Mexican</td>\n",
       "      <td>STREET</td>\n",
       "      <td>HAND GUN</td>\n",
       "      <td>IC</td>\n",
       "      <td>Invest Cont</td>\n",
       "      <td>1000 S  MARIPOSA                     AV</td>\n",
       "      <td>Yes</td>\n",
       "      <td>Firearm</td>\n",
       "    </tr>\n",
       "    <tr>\n",
       "      <th>804947</th>\n",
       "      <td>160605536</td>\n",
       "      <td>01/27/2016 12:00:00 AM</td>\n",
       "      <td>2015-06-01</td>\n",
       "      <td>800</td>\n",
       "      <td>Hollywood</td>\n",
       "      <td>2</td>\n",
       "      <td>THEFT OF IDENTITY</td>\n",
       "      <td>50</td>\n",
       "      <td>F</td>\n",
       "      <td>Hispanic/Latin/Mexican</td>\n",
       "      <td>SINGLE FAMILY DWELLING</td>\n",
       "      <td>No Weapon</td>\n",
       "      <td>IC</td>\n",
       "      <td>Invest Cont</td>\n",
       "      <td>1400 N  DETROIT                      ST</td>\n",
       "      <td>No</td>\n",
       "      <td>UnKnown</td>\n",
       "    </tr>\n",
       "    <tr>\n",
       "      <th>804948</th>\n",
       "      <td>160711213</td>\n",
       "      <td>06/15/2016 12:00:00 AM</td>\n",
       "      <td>2015-12-15</td>\n",
       "      <td>945</td>\n",
       "      <td>Wilshire</td>\n",
       "      <td>2</td>\n",
       "      <td>THEFT OF IDENTITY</td>\n",
       "      <td>51</td>\n",
       "      <td>M</td>\n",
       "      <td>Black</td>\n",
       "      <td>SINGLE FAMILY DWELLING</td>\n",
       "      <td>No Weapon</td>\n",
       "      <td>IC</td>\n",
       "      <td>Invest Cont</td>\n",
       "      <td>5300 W  OLYMPIC                      BL</td>\n",
       "      <td>No</td>\n",
       "      <td>UnKnown</td>\n",
       "    </tr>\n",
       "    <tr>\n",
       "      <th>804952</th>\n",
       "      <td>152118490</td>\n",
       "      <td>11/10/2015 12:00:00 AM</td>\n",
       "      <td>2015-11-09</td>\n",
       "      <td>1930</td>\n",
       "      <td>Topanga</td>\n",
       "      <td>1</td>\n",
       "      <td>BURGLARY FROM VEHICLE</td>\n",
       "      <td>32</td>\n",
       "      <td>M</td>\n",
       "      <td>Other</td>\n",
       "      <td>STREET</td>\n",
       "      <td>No Weapon</td>\n",
       "      <td>IC</td>\n",
       "      <td>Invest Cont</td>\n",
       "      <td>21300    PARTHENIA                    ST</td>\n",
       "      <td>No</td>\n",
       "      <td>UnKnown</td>\n",
       "    </tr>\n",
       "    <tr>\n",
       "      <th>804953</th>\n",
       "      <td>151717560</td>\n",
       "      <td>10/15/2015 12:00:00 AM</td>\n",
       "      <td>2015-10-15</td>\n",
       "      <td>1445</td>\n",
       "      <td>Devonshire</td>\n",
       "      <td>2</td>\n",
       "      <td>THROWING OBJECT AT MOVING VEHICLE</td>\n",
       "      <td>48</td>\n",
       "      <td>F</td>\n",
       "      <td>White</td>\n",
       "      <td>STREET</td>\n",
       "      <td>No Weapon</td>\n",
       "      <td>IC</td>\n",
       "      <td>Invest Cont</td>\n",
       "      <td>BALBOA</td>\n",
       "      <td>No</td>\n",
       "      <td>UnKnown</td>\n",
       "    </tr>\n",
       "  </tbody>\n",
       "</table>\n",
       "</div>"
      ],
      "text/plain": [
       "            dr_no               date rptd   date occ  time occ   area name  \\\n",
       "804945  152005022  01/21/2015 12:00:00 AM 2015-01-21      1415     Olympic   \n",
       "804947  160605536  01/27/2016 12:00:00 AM 2015-06-01       800   Hollywood   \n",
       "804948  160711213  06/15/2016 12:00:00 AM 2015-12-15       945    Wilshire   \n",
       "804952  152118490  11/10/2015 12:00:00 AM 2015-11-09      1930     Topanga   \n",
       "804953  151717560  10/15/2015 12:00:00 AM 2015-10-15      1445  Devonshire   \n",
       "\n",
       "        part 1-2                                     crm cd desc vict age  \\\n",
       "804945         1  ASSAULT WITH DEADLY WEAPON, AGGRAVATED ASSAULT       28   \n",
       "804947         2                               THEFT OF IDENTITY       50   \n",
       "804948         2                               THEFT OF IDENTITY       51   \n",
       "804952         1                           BURGLARY FROM VEHICLE       32   \n",
       "804953         2               THROWING OBJECT AT MOVING VEHICLE       48   \n",
       "\n",
       "       vict sex            vict descent             premis desc weapon desc  \\\n",
       "804945        F  Hispanic/Latin/Mexican                  STREET    HAND GUN   \n",
       "804947        F  Hispanic/Latin/Mexican  SINGLE FAMILY DWELLING   No Weapon   \n",
       "804948        M                   Black  SINGLE FAMILY DWELLING   No Weapon   \n",
       "804952        M                   Other                  STREET   No Weapon   \n",
       "804953        F                   White                  STREET   No Weapon   \n",
       "\n",
       "       status  status desc                                  location  \\\n",
       "804945     IC  Invest Cont   1000 S  MARIPOSA                     AV   \n",
       "804947     IC  Invest Cont   1400 N  DETROIT                      ST   \n",
       "804948     IC  Invest Cont   5300 W  OLYMPIC                      BL   \n",
       "804952     IC  Invest Cont  21300    PARTHENIA                    ST   \n",
       "804953     IC  Invest Cont                                    BALBOA   \n",
       "\n",
       "       weapon used weapon_category  \n",
       "804945         Yes         Firearm  \n",
       "804947          No         UnKnown  \n",
       "804948          No         UnKnown  \n",
       "804952          No         UnKnown  \n",
       "804953          No         UnKnown  "
      ]
     },
     "execution_count": 52,
     "metadata": {},
     "output_type": "execute_result"
    }
   ],
   "source": [
    "la_data.head()"
   ]
  },
  {
   "cell_type": "code",
   "execution_count": 53,
   "id": "1e07b1ac-fd90-42c7-bc80-afd68346e1b1",
   "metadata": {},
   "outputs": [
    {
     "data": {
      "text/plain": [
       "weapon_category\n",
       "UnKnown                    712957\n",
       "UnArmed/Bodily Force       250229\n",
       "Other                       36978\n",
       "Firearm                     35558\n",
       "Knife/Sharp Object          22089\n",
       "Blunt Object                20357\n",
       "Explosive/Fire/Chemical      3716\n",
       "Name: count, dtype: int64"
      ]
     },
     "execution_count": 53,
     "metadata": {},
     "output_type": "execute_result"
    }
   ],
   "source": [
    "la_data[\"weapon_category\"].value_counts()"
   ]
  },
  {
   "cell_type": "code",
   "execution_count": 54,
   "id": "34bf11a3-6e06-46f3-87a2-9e5b8ef7beb1",
   "metadata": {},
   "outputs": [
    {
     "data": {
      "text/plain": [
       "weapon desc\n",
       "No Weapon    712957\n",
       "Name: count, dtype: int64"
      ]
     },
     "execution_count": 54,
     "metadata": {},
     "output_type": "execute_result"
    }
   ],
   "source": [
    "# Check we did correct categorization\n",
    "# here \"UnKnown\" value_count is same as \"No Weapon\" value_count which indicate correct categorization\n",
    "la_data[la_data[\"weapon_category\"] == \"UnKnown\"][\"weapon desc\"].value_counts()"
   ]
  },
  {
   "cell_type": "code",
   "execution_count": 55,
   "id": "e5e0fcb6-52d9-475e-8e9f-0a316956d1c9",
   "metadata": {},
   "outputs": [
    {
     "data": {
      "text/plain": [
       "(712957, 17)"
      ]
     },
     "execution_count": 55,
     "metadata": {},
     "output_type": "execute_result"
    }
   ],
   "source": [
    "la_data[la_data[\"weapon desc\"] == \"No Weapon\"].shape\n",
    "# 712957"
   ]
  },
  {
   "cell_type": "markdown",
   "id": "a808b490-d865-4108-af15-2ebf7b4c6681",
   "metadata": {},
   "source": [
    "##### Status Column"
   ]
  },
  {
   "cell_type": "code",
   "execution_count": 56,
   "id": "b5214caa-8c1b-491f-8d52-085838e615e8",
   "metadata": {},
   "outputs": [],
   "source": [
    "# IC → Investigation Continued\n",
    "# AO → Adult Other (case referred or handled outside LAPD court process)\n",
    "# AA → Adult Arrest\n",
    "# JA → Juvenile Arrest\n",
    "# JO → Juvenile Other (case referred or handled differently for juveniles)\n",
    "# CC → Cleared-Commission/Non-LAPD (closed by outside agency)\n",
    "# UNK → Unknown\n",
    "\n",
    "# AA, JA, CC → resolved\n",
    "# IC, AO, JO, UNK → unresolved"
   ]
  },
  {
   "cell_type": "code",
   "execution_count": 57,
   "id": "8f17354f-a739-4237-a9e6-fbe67d6cb022",
   "metadata": {},
   "outputs": [
    {
     "data": {
      "text/html": [
       "<div>\n",
       "<style scoped>\n",
       "    .dataframe tbody tr th:only-of-type {\n",
       "        vertical-align: middle;\n",
       "    }\n",
       "\n",
       "    .dataframe tbody tr th {\n",
       "        vertical-align: top;\n",
       "    }\n",
       "\n",
       "    .dataframe thead th {\n",
       "        text-align: right;\n",
       "    }\n",
       "</style>\n",
       "<table border=\"1\" class=\"dataframe\">\n",
       "  <thead>\n",
       "    <tr style=\"text-align: right;\">\n",
       "      <th></th>\n",
       "      <th>dr_no</th>\n",
       "      <th>date rptd</th>\n",
       "      <th>date occ</th>\n",
       "      <th>time occ</th>\n",
       "      <th>area name</th>\n",
       "      <th>part 1-2</th>\n",
       "      <th>crm cd desc</th>\n",
       "      <th>vict age</th>\n",
       "      <th>vict sex</th>\n",
       "      <th>vict descent</th>\n",
       "      <th>premis desc</th>\n",
       "      <th>weapon desc</th>\n",
       "      <th>status</th>\n",
       "      <th>status desc</th>\n",
       "      <th>location</th>\n",
       "      <th>weapon used</th>\n",
       "      <th>weapon_category</th>\n",
       "    </tr>\n",
       "  </thead>\n",
       "  <tbody>\n",
       "    <tr>\n",
       "      <th>1983937</th>\n",
       "      <td>191307542</td>\n",
       "      <td>03/06/2019 12:00:00 AM</td>\n",
       "      <td>2019-03-06</td>\n",
       "      <td>1645</td>\n",
       "      <td>Newton</td>\n",
       "      <td>1</td>\n",
       "      <td>VEHICLE - STOLEN</td>\n",
       "      <td>UnKnown</td>\n",
       "      <td>X</td>\n",
       "      <td>UnKnown</td>\n",
       "      <td>UNKNOWN</td>\n",
       "      <td>No Weapon</td>\n",
       "      <td>NaN</td>\n",
       "      <td>UNK</td>\n",
       "      <td>STANFORD</td>\n",
       "      <td>No</td>\n",
       "      <td>UnKnown</td>\n",
       "    </tr>\n",
       "  </tbody>\n",
       "</table>\n",
       "</div>"
      ],
      "text/plain": [
       "             dr_no               date rptd   date occ  time occ area name  \\\n",
       "1983937  191307542  03/06/2019 12:00:00 AM 2019-03-06      1645    Newton   \n",
       "\n",
       "         part 1-2       crm cd desc vict age vict sex vict descent  \\\n",
       "1983937         1  VEHICLE - STOLEN  UnKnown        X      UnKnown   \n",
       "\n",
       "        premis desc weapon desc status status desc  location weapon used  \\\n",
       "1983937     UNKNOWN   No Weapon    NaN         UNK  STANFORD          No   \n",
       "\n",
       "        weapon_category  \n",
       "1983937         UnKnown  "
      ]
     },
     "execution_count": 57,
     "metadata": {},
     "output_type": "execute_result"
    }
   ],
   "source": [
    "la_data[la_data[\"status\"].isnull()]"
   ]
  },
  {
   "cell_type": "code",
   "execution_count": 58,
   "id": "23e22cf4-eb18-4b5c-9af6-10ffcbf6cd5b",
   "metadata": {},
   "outputs": [],
   "source": [
    "la_data[\"status\"] = la_data[\"status\"].fillna(\"UNK\")"
   ]
  },
  {
   "cell_type": "code",
   "execution_count": 59,
   "id": "8e51a167-4566-46a9-bc7a-4aa1a442c7da",
   "metadata": {},
   "outputs": [
    {
     "data": {
      "text/plain": [
       "np.int64(0)"
      ]
     },
     "execution_count": 59,
     "metadata": {},
     "output_type": "execute_result"
    }
   ],
   "source": [
    "la_data[\"status\"].isnull().sum()"
   ]
  },
  {
   "cell_type": "code",
   "execution_count": 60,
   "id": "8b660cfa-145e-40f0-acaf-f3554c2da23e",
   "metadata": {},
   "outputs": [
    {
     "data": {
      "text/plain": [
       "status\n",
       "IC     819350\n",
       "AO     138463\n",
       "AA     113605\n",
       "JA       7585\n",
       "JO       2870\n",
       "CC          9\n",
       "19          1\n",
       "UNK         1\n",
       "Name: count, dtype: int64"
      ]
     },
     "execution_count": 60,
     "metadata": {},
     "output_type": "execute_result"
    }
   ],
   "source": [
    "la_data[\"status\"].value_counts()"
   ]
  },
  {
   "cell_type": "code",
   "execution_count": 61,
   "id": "e206c338-ed37-45f1-add8-d8f655238089",
   "metadata": {},
   "outputs": [
    {
     "data": {
      "text/html": [
       "<div>\n",
       "<style scoped>\n",
       "    .dataframe tbody tr th:only-of-type {\n",
       "        vertical-align: middle;\n",
       "    }\n",
       "\n",
       "    .dataframe tbody tr th {\n",
       "        vertical-align: top;\n",
       "    }\n",
       "\n",
       "    .dataframe thead th {\n",
       "        text-align: right;\n",
       "    }\n",
       "</style>\n",
       "<table border=\"1\" class=\"dataframe\">\n",
       "  <thead>\n",
       "    <tr style=\"text-align: right;\">\n",
       "      <th></th>\n",
       "      <th>dr_no</th>\n",
       "      <th>date rptd</th>\n",
       "      <th>date occ</th>\n",
       "      <th>time occ</th>\n",
       "      <th>area name</th>\n",
       "      <th>part 1-2</th>\n",
       "      <th>crm cd desc</th>\n",
       "      <th>vict age</th>\n",
       "      <th>vict sex</th>\n",
       "      <th>vict descent</th>\n",
       "      <th>premis desc</th>\n",
       "      <th>weapon desc</th>\n",
       "      <th>status</th>\n",
       "      <th>status desc</th>\n",
       "      <th>location</th>\n",
       "      <th>weapon used</th>\n",
       "      <th>weapon_category</th>\n",
       "    </tr>\n",
       "  </thead>\n",
       "  <tbody>\n",
       "    <tr>\n",
       "      <th>1167320</th>\n",
       "      <td>161922607</td>\n",
       "      <td>11/30/2016 12:00:00 AM</td>\n",
       "      <td>2016-11-25</td>\n",
       "      <td>950</td>\n",
       "      <td>Mission</td>\n",
       "      <td>1</td>\n",
       "      <td>THEFT FROM MOTOR VEHICLE - PETTY ($950 &amp; UNDER)</td>\n",
       "      <td>UnKnown</td>\n",
       "      <td>X</td>\n",
       "      <td>UnKnown</td>\n",
       "      <td>STREET</td>\n",
       "      <td>No Weapon</td>\n",
       "      <td>19</td>\n",
       "      <td>UNK</td>\n",
       "      <td>15800    OLDEN                        ST</td>\n",
       "      <td>No</td>\n",
       "      <td>UnKnown</td>\n",
       "    </tr>\n",
       "  </tbody>\n",
       "</table>\n",
       "</div>"
      ],
      "text/plain": [
       "             dr_no               date rptd   date occ  time occ area name  \\\n",
       "1167320  161922607  11/30/2016 12:00:00 AM 2016-11-25       950   Mission   \n",
       "\n",
       "         part 1-2                                      crm cd desc vict age  \\\n",
       "1167320         1  THEFT FROM MOTOR VEHICLE - PETTY ($950 & UNDER)  UnKnown   \n",
       "\n",
       "        vict sex vict descent premis desc weapon desc status status desc  \\\n",
       "1167320        X      UnKnown      STREET   No Weapon     19         UNK   \n",
       "\n",
       "                                         location weapon used weapon_category  \n",
       "1167320  15800    OLDEN                        ST          No         UnKnown  "
      ]
     },
     "execution_count": 61,
     "metadata": {},
     "output_type": "execute_result"
    }
   ],
   "source": [
    "la_data[la_data[\"status\"] == '19']"
   ]
  },
  {
   "cell_type": "code",
   "execution_count": 62,
   "id": "f35bdf32-4406-4e81-a444-b102a89144de",
   "metadata": {},
   "outputs": [],
   "source": [
    "# replace 19 with unknown\n",
    "la_data[\"status\"] = la_data[\"status\"].replace(\"19\",\"UNK\")"
   ]
  },
  {
   "cell_type": "code",
   "execution_count": 63,
   "id": "417fe914-f87a-4e27-a976-35af114dee90",
   "metadata": {},
   "outputs": [
    {
     "data": {
      "text/plain": [
       "status\n",
       "IC     819350\n",
       "AO     138463\n",
       "AA     113605\n",
       "JA       7585\n",
       "JO       2870\n",
       "CC          9\n",
       "UNK         2\n",
       "Name: count, dtype: int64"
      ]
     },
     "execution_count": 63,
     "metadata": {},
     "output_type": "execute_result"
    }
   ],
   "source": [
    "la_data[\"status\"].value_counts()"
   ]
  },
  {
   "cell_type": "code",
   "execution_count": 64,
   "id": "1d2ac6f2-e0fb-4927-bafb-fb2678efd0de",
   "metadata": {},
   "outputs": [
    {
     "data": {
      "text/html": [
       "<div>\n",
       "<style scoped>\n",
       "    .dataframe tbody tr th:only-of-type {\n",
       "        vertical-align: middle;\n",
       "    }\n",
       "\n",
       "    .dataframe tbody tr th {\n",
       "        vertical-align: top;\n",
       "    }\n",
       "\n",
       "    .dataframe thead th {\n",
       "        text-align: right;\n",
       "    }\n",
       "</style>\n",
       "<table border=\"1\" class=\"dataframe\">\n",
       "  <thead>\n",
       "    <tr style=\"text-align: right;\">\n",
       "      <th></th>\n",
       "      <th>dr_no</th>\n",
       "      <th>date rptd</th>\n",
       "      <th>date occ</th>\n",
       "      <th>time occ</th>\n",
       "      <th>area name</th>\n",
       "      <th>part 1-2</th>\n",
       "      <th>crm cd desc</th>\n",
       "      <th>vict age</th>\n",
       "      <th>vict sex</th>\n",
       "      <th>vict descent</th>\n",
       "      <th>premis desc</th>\n",
       "      <th>weapon desc</th>\n",
       "      <th>status</th>\n",
       "      <th>status desc</th>\n",
       "      <th>location</th>\n",
       "      <th>weapon used</th>\n",
       "      <th>weapon_category</th>\n",
       "    </tr>\n",
       "  </thead>\n",
       "  <tbody>\n",
       "    <tr>\n",
       "      <th>1287487</th>\n",
       "      <td>160217814</td>\n",
       "      <td>09/27/2016 12:00:00 AM</td>\n",
       "      <td>2016-09-26</td>\n",
       "      <td>1645</td>\n",
       "      <td>Rampart</td>\n",
       "      <td>2</td>\n",
       "      <td>BUNCO, PETTY THEFT</td>\n",
       "      <td>18</td>\n",
       "      <td>M</td>\n",
       "      <td>Hispanic/Latin/Mexican</td>\n",
       "      <td>SINGLE FAMILY DWELLING</td>\n",
       "      <td>No Weapon</td>\n",
       "      <td>CC</td>\n",
       "      <td>UNK</td>\n",
       "      <td>1800    MARYLAND                     ST</td>\n",
       "      <td>No</td>\n",
       "      <td>UnKnown</td>\n",
       "    </tr>\n",
       "    <tr>\n",
       "      <th>1311831</th>\n",
       "      <td>160327645</td>\n",
       "      <td>12/20/2016 12:00:00 AM</td>\n",
       "      <td>2016-12-20</td>\n",
       "      <td>1350</td>\n",
       "      <td>Southwest</td>\n",
       "      <td>1</td>\n",
       "      <td>SHOPLIFTING - PETTY THEFT ($950 &amp; UNDER)</td>\n",
       "      <td>23</td>\n",
       "      <td>M</td>\n",
       "      <td>Hispanic/Latin/Mexican</td>\n",
       "      <td>MARKET</td>\n",
       "      <td>No Weapon</td>\n",
       "      <td>CC</td>\n",
       "      <td>UNK</td>\n",
       "      <td>5000    RODEO                        RD</td>\n",
       "      <td>No</td>\n",
       "      <td>UnKnown</td>\n",
       "    </tr>\n",
       "    <tr>\n",
       "      <th>1544598</th>\n",
       "      <td>170314115</td>\n",
       "      <td>06/01/2017 12:00:00 AM</td>\n",
       "      <td>2017-06-01</td>\n",
       "      <td>30</td>\n",
       "      <td>Southwest</td>\n",
       "      <td>2</td>\n",
       "      <td>VANDALISM - FELONY ($400 &amp; OVER, ALL CHURCH VA...</td>\n",
       "      <td>22</td>\n",
       "      <td>F</td>\n",
       "      <td>Hispanic/Latin/Mexican</td>\n",
       "      <td>STREET</td>\n",
       "      <td>No Weapon</td>\n",
       "      <td>CC</td>\n",
       "      <td>UNK</td>\n",
       "      <td>3100    RAYMOND                      AV</td>\n",
       "      <td>No</td>\n",
       "      <td>UnKnown</td>\n",
       "    </tr>\n",
       "    <tr>\n",
       "      <th>1660178</th>\n",
       "      <td>171221278</td>\n",
       "      <td>08/25/2017 12:00:00 AM</td>\n",
       "      <td>2017-07-29</td>\n",
       "      <td>1400</td>\n",
       "      <td>77th Street</td>\n",
       "      <td>1</td>\n",
       "      <td>THEFT PLAIN - PETTY ($950 &amp; UNDER)</td>\n",
       "      <td>18</td>\n",
       "      <td>F</td>\n",
       "      <td>Black</td>\n",
       "      <td>MULTI-UNIT DWELLING (APARTMENT, DUPLEX, ETC)</td>\n",
       "      <td>No Weapon</td>\n",
       "      <td>CC</td>\n",
       "      <td>UNK</td>\n",
       "      <td>6500 S  NORMANDIE                    AV</td>\n",
       "      <td>No</td>\n",
       "      <td>UnKnown</td>\n",
       "    </tr>\n",
       "    <tr>\n",
       "      <th>1907645</th>\n",
       "      <td>181105575</td>\n",
       "      <td>02/06/2018 12:00:00 AM</td>\n",
       "      <td>2018-02-05</td>\n",
       "      <td>1720</td>\n",
       "      <td>Northeast</td>\n",
       "      <td>2</td>\n",
       "      <td>VANDALISM - MISDEAMEANOR ($399 OR UNDER)</td>\n",
       "      <td>UnKnown</td>\n",
       "      <td>X</td>\n",
       "      <td>UnKnown</td>\n",
       "      <td>OTHER BUSINESS</td>\n",
       "      <td>No Weapon</td>\n",
       "      <td>CC</td>\n",
       "      <td>UNK</td>\n",
       "      <td>1400    ECHO PARK                    AV</td>\n",
       "      <td>No</td>\n",
       "      <td>UnKnown</td>\n",
       "    </tr>\n",
       "    <tr>\n",
       "      <th>1995988</th>\n",
       "      <td>192117351</td>\n",
       "      <td>10/12/2019 12:00:00 AM</td>\n",
       "      <td>2019-10-12</td>\n",
       "      <td>1700</td>\n",
       "      <td>Topanga</td>\n",
       "      <td>1</td>\n",
       "      <td>THEFT PLAIN - PETTY ($950 &amp; UNDER)</td>\n",
       "      <td>36</td>\n",
       "      <td>M</td>\n",
       "      <td>Other</td>\n",
       "      <td>OTHER BUSINESS</td>\n",
       "      <td>No Weapon</td>\n",
       "      <td>CC</td>\n",
       "      <td>UNK</td>\n",
       "      <td>6900    TOPANGA CANYON               BL</td>\n",
       "      <td>No</td>\n",
       "      <td>UnKnown</td>\n",
       "    </tr>\n",
       "    <tr>\n",
       "      <th>2005323</th>\n",
       "      <td>201604049</td>\n",
       "      <td>01/02/2020 12:00:00 AM</td>\n",
       "      <td>2019-11-20</td>\n",
       "      <td>1530</td>\n",
       "      <td>Foothill</td>\n",
       "      <td>2</td>\n",
       "      <td>CHILD STEALING</td>\n",
       "      <td>UnKnown</td>\n",
       "      <td>X</td>\n",
       "      <td>UnKnown</td>\n",
       "      <td>UNKNOWN</td>\n",
       "      <td>No Weapon</td>\n",
       "      <td>CC</td>\n",
       "      <td>UNK</td>\n",
       "      <td>13700    DESMOND                      ST</td>\n",
       "      <td>No</td>\n",
       "      <td>UnKnown</td>\n",
       "    </tr>\n",
       "    <tr>\n",
       "      <th>2010643</th>\n",
       "      <td>191421123</td>\n",
       "      <td>09/29/2019 12:00:00 AM</td>\n",
       "      <td>2019-09-28</td>\n",
       "      <td>2330</td>\n",
       "      <td>Pacific</td>\n",
       "      <td>1</td>\n",
       "      <td>THEFT-GRAND ($950.01 &amp; OVER)EXCPT,GUNS,FOWL,LI...</td>\n",
       "      <td>38</td>\n",
       "      <td>M</td>\n",
       "      <td>Other</td>\n",
       "      <td>PARKING UNDERGROUND/BUILDING</td>\n",
       "      <td>No Weapon</td>\n",
       "      <td>CC</td>\n",
       "      <td>UNK</td>\n",
       "      <td>5800    SEAWALK                      DR</td>\n",
       "      <td>No</td>\n",
       "      <td>UnKnown</td>\n",
       "    </tr>\n",
       "    <tr>\n",
       "      <th>2012625</th>\n",
       "      <td>201604048</td>\n",
       "      <td>01/02/2020 12:00:00 AM</td>\n",
       "      <td>2019-11-20</td>\n",
       "      <td>1530</td>\n",
       "      <td>Foothill</td>\n",
       "      <td>2</td>\n",
       "      <td>CHILD STEALING</td>\n",
       "      <td>UnKnown</td>\n",
       "      <td>X</td>\n",
       "      <td>UnKnown</td>\n",
       "      <td>UNKNOWN</td>\n",
       "      <td>No Weapon</td>\n",
       "      <td>CC</td>\n",
       "      <td>UNK</td>\n",
       "      <td>13700    DESMOND                      ST</td>\n",
       "      <td>No</td>\n",
       "      <td>UnKnown</td>\n",
       "    </tr>\n",
       "  </tbody>\n",
       "</table>\n",
       "</div>"
      ],
      "text/plain": [
       "             dr_no               date rptd   date occ  time occ    area name  \\\n",
       "1287487  160217814  09/27/2016 12:00:00 AM 2016-09-26      1645      Rampart   \n",
       "1311831  160327645  12/20/2016 12:00:00 AM 2016-12-20      1350    Southwest   \n",
       "1544598  170314115  06/01/2017 12:00:00 AM 2017-06-01        30    Southwest   \n",
       "1660178  171221278  08/25/2017 12:00:00 AM 2017-07-29      1400  77th Street   \n",
       "1907645  181105575  02/06/2018 12:00:00 AM 2018-02-05      1720    Northeast   \n",
       "1995988  192117351  10/12/2019 12:00:00 AM 2019-10-12      1700      Topanga   \n",
       "2005323  201604049  01/02/2020 12:00:00 AM 2019-11-20      1530     Foothill   \n",
       "2010643  191421123  09/29/2019 12:00:00 AM 2019-09-28      2330      Pacific   \n",
       "2012625  201604048  01/02/2020 12:00:00 AM 2019-11-20      1530     Foothill   \n",
       "\n",
       "         part 1-2                                        crm cd desc vict age  \\\n",
       "1287487         2                                 BUNCO, PETTY THEFT       18   \n",
       "1311831         1           SHOPLIFTING - PETTY THEFT ($950 & UNDER)       23   \n",
       "1544598         2  VANDALISM - FELONY ($400 & OVER, ALL CHURCH VA...       22   \n",
       "1660178         1                 THEFT PLAIN - PETTY ($950 & UNDER)       18   \n",
       "1907645         2           VANDALISM - MISDEAMEANOR ($399 OR UNDER)  UnKnown   \n",
       "1995988         1                 THEFT PLAIN - PETTY ($950 & UNDER)       36   \n",
       "2005323         2                                     CHILD STEALING  UnKnown   \n",
       "2010643         1  THEFT-GRAND ($950.01 & OVER)EXCPT,GUNS,FOWL,LI...       38   \n",
       "2012625         2                                     CHILD STEALING  UnKnown   \n",
       "\n",
       "        vict sex            vict descent  \\\n",
       "1287487        M  Hispanic/Latin/Mexican   \n",
       "1311831        M  Hispanic/Latin/Mexican   \n",
       "1544598        F  Hispanic/Latin/Mexican   \n",
       "1660178        F                   Black   \n",
       "1907645        X                 UnKnown   \n",
       "1995988        M                   Other   \n",
       "2005323        X                 UnKnown   \n",
       "2010643        M                   Other   \n",
       "2012625        X                 UnKnown   \n",
       "\n",
       "                                          premis desc weapon desc status  \\\n",
       "1287487                        SINGLE FAMILY DWELLING   No Weapon     CC   \n",
       "1311831                                        MARKET   No Weapon     CC   \n",
       "1544598                                        STREET   No Weapon     CC   \n",
       "1660178  MULTI-UNIT DWELLING (APARTMENT, DUPLEX, ETC)   No Weapon     CC   \n",
       "1907645                                OTHER BUSINESS   No Weapon     CC   \n",
       "1995988                                OTHER BUSINESS   No Weapon     CC   \n",
       "2005323                                       UNKNOWN   No Weapon     CC   \n",
       "2010643                  PARKING UNDERGROUND/BUILDING   No Weapon     CC   \n",
       "2012625                                       UNKNOWN   No Weapon     CC   \n",
       "\n",
       "        status desc                                  location weapon used  \\\n",
       "1287487         UNK   1800    MARYLAND                     ST          No   \n",
       "1311831         UNK   5000    RODEO                        RD          No   \n",
       "1544598         UNK   3100    RAYMOND                      AV          No   \n",
       "1660178         UNK   6500 S  NORMANDIE                    AV          No   \n",
       "1907645         UNK   1400    ECHO PARK                    AV          No   \n",
       "1995988         UNK   6900    TOPANGA CANYON               BL          No   \n",
       "2005323         UNK  13700    DESMOND                      ST          No   \n",
       "2010643         UNK   5800    SEAWALK                      DR          No   \n",
       "2012625         UNK  13700    DESMOND                      ST          No   \n",
       "\n",
       "        weapon_category  \n",
       "1287487         UnKnown  \n",
       "1311831         UnKnown  \n",
       "1544598         UnKnown  \n",
       "1660178         UnKnown  \n",
       "1907645         UnKnown  \n",
       "1995988         UnKnown  \n",
       "2005323         UnKnown  \n",
       "2010643         UnKnown  \n",
       "2012625         UnKnown  "
      ]
     },
     "execution_count": 64,
     "metadata": {},
     "output_type": "execute_result"
    }
   ],
   "source": [
    "la_data[la_data[\"status\"] == \"CC\"]\n",
    "# the case was closed without further police involvement or clear resolution.(CC means)"
   ]
  },
  {
   "cell_type": "markdown",
   "id": "b7d7b27a-2eea-4a2c-8e19-ddd536df4420",
   "metadata": {},
   "source": [
    "##### Part 1-2 Column"
   ]
  },
  {
   "cell_type": "code",
   "execution_count": 65,
   "id": "74c30c6c-0cf5-43aa-bc97-fc48587ddba4",
   "metadata": {},
   "outputs": [],
   "source": [
    "# convert 1 with \"serious\" and 2 with 'normal\""
   ]
  },
  {
   "cell_type": "code",
   "execution_count": 66,
   "id": "364c7351-92dc-4490-98f1-dcb90ecaac29",
   "metadata": {},
   "outputs": [
    {
     "data": {
      "text/plain": [
       "part 1-2\n",
       "1    613605\n",
       "2    468279\n",
       "Name: count, dtype: int64"
      ]
     },
     "execution_count": 66,
     "metadata": {},
     "output_type": "execute_result"
    }
   ],
   "source": [
    "la_data[\"part 1-2\"].value_counts()"
   ]
  },
  {
   "cell_type": "code",
   "execution_count": 67,
   "id": "889c5fcf-4192-4483-a9dd-4e9fe050e4bf",
   "metadata": {},
   "outputs": [
    {
     "data": {
      "text/plain": [
       "np.int64(0)"
      ]
     },
     "execution_count": 67,
     "metadata": {},
     "output_type": "execute_result"
    }
   ],
   "source": [
    "la_data[\"part 1-2\"].isnull().sum()"
   ]
  },
  {
   "cell_type": "code",
   "execution_count": 68,
   "id": "02d23678-d551-4726-a0af-2a97a1be850b",
   "metadata": {},
   "outputs": [],
   "source": [
    "case_mapping = {1:\"Serious\",2:\"Normal\"}\n",
    "la_data[\"part 1-2\"] = la_data[\"part 1-2\"].map(case_mapping)"
   ]
  },
  {
   "cell_type": "code",
   "execution_count": 69,
   "id": "d7316d83-f2d7-4a83-98a7-2e58ca621b6c",
   "metadata": {},
   "outputs": [
    {
     "data": {
      "text/plain": [
       "part 1-2\n",
       "Serious    613605\n",
       "Normal     468279\n",
       "Name: count, dtype: int64"
      ]
     },
     "execution_count": 69,
     "metadata": {},
     "output_type": "execute_result"
    }
   ],
   "source": [
    "la_data[\"part 1-2\"].value_counts()"
   ]
  },
  {
   "cell_type": "markdown",
   "id": "6f307907-cffa-4506-97a4-c13baefc221c",
   "metadata": {},
   "source": [
    "##### Location Column"
   ]
  },
  {
   "cell_type": "code",
   "execution_count": 70,
   "id": "bead62bf-36a9-453e-a6ce-ca3166022897",
   "metadata": {},
   "outputs": [
    {
     "data": {
      "text/plain": [
       "np.int64(0)"
      ]
     },
     "execution_count": 70,
     "metadata": {},
     "output_type": "execute_result"
    }
   ],
   "source": [
    "la_data[\"location\"].isnull().sum()"
   ]
  },
  {
   "cell_type": "code",
   "execution_count": 71,
   "id": "5d2e4560-6bfc-44b9-8825-4fc3e251847b",
   "metadata": {},
   "outputs": [
    {
     "data": {
      "text/plain": [
       "location\n",
       "6TH                          ST             2571\n",
       "7TH                          ST             2165\n",
       "9300    TAMPA                        AV     2069\n",
       "6TH                                         1954\n",
       "7TH                                         1880\n",
       "5TH                          ST             1843\n",
       "5TH                                         1768\n",
       "6600    TOPANGA CANYON               BL     1717\n",
       "VERMONT                      AV             1576\n",
       "WESTERN                      AV             1445\n",
       "6800    HOLLYWOOD                    BL     1414\n",
       "500 S  SAN PEDRO                    ST      1398\n",
       "14000    RIVERSIDE                    DR    1397\n",
       "BROADWAY                                    1393\n",
       "HOLLYWOOD                                   1390\n",
       "3RD                          ST             1285\n",
       "700 W  7TH                          ST      1278\n",
       "FIGUEROA                                    1183\n",
       "VERMONT                                     1177\n",
       "SUNSET                                      1156\n",
       "8TH                          ST             1140\n",
       "SHERMAN                      WY             1136\n",
       "700 S  FIGUEROA                     ST      1107\n",
       "FIGUEROA                     ST             1100\n",
       "100    THE GROVE                    DR      1091\n",
       "WILSHIRE                     BL             1077\n",
       "800 N  ALAMEDA                      ST      1047\n",
       "HOLLYWOOD                    BL             1043\n",
       "WESTERN                                     1027\n",
       "4TH                          ST              956\n",
       "600 S  SAN PEDRO                    ST       935\n",
       "PICO                         BL              929\n",
       "10200    SANTA MONICA                 BL     929\n",
       "300    WORLD                        WY       910\n",
       "3RD                                          894\n",
       "3500 S  LA CIENEGA                   BL      891\n",
       "SUNSET                       BL              858\n",
       "8500    BEVERLY                      BL      840\n",
       "600 W  5TH                          ST       830\n",
       "WILSHIRE                                     828\n",
       "VAN NUYS                     BL              798\n",
       "SEPULVEDA                    BL              786\n",
       "8TH                                          783\n",
       "1800 W  SLAUSON                      AV      780\n",
       "5700    SEPULVEDA                    BL      777\n",
       "CRENSHAW                     BL              755\n",
       "WASHINGTON                   BL              753\n",
       "4TH                                          739\n",
       "7000    HOLLYWOOD                    BL      715\n",
       "MAIN                         ST              712\n",
       "1ST                          ST              710\n",
       "OLYMPIC                      BL              697\n",
       "OLYMPIC                                      692\n",
       "CENTRAL                      AV              691\n",
       "4000    CRENSHAW                     BL      675\n",
       "VENICE                       BL              667\n",
       "SLAUSON                      AV              664\n",
       "200 E  6TH                          ST       654\n",
       "SEPULVEDA                                    648\n",
       "MARTIN LUTHER KING JR        BL              646\n",
       "Name: count, dtype: int64"
      ]
     },
     "execution_count": 71,
     "metadata": {},
     "output_type": "execute_result"
    }
   ],
   "source": [
    "la_data[\"location\"].value_counts().head(60)"
   ]
  },
  {
   "cell_type": "code",
   "execution_count": 72,
   "id": "cb1e4b16-2c2c-476f-82b4-b8d2fed28e62",
   "metadata": {},
   "outputs": [],
   "source": [
    "# removing starting and ending spaces \n",
    "la_data[\"location\"] = la_data[\"location\"].str.strip()"
   ]
  },
  {
   "cell_type": "code",
   "execution_count": 73,
   "id": "22aca338-09f0-498e-9cc6-b5ad91bad072",
   "metadata": {},
   "outputs": [],
   "source": [
    "# replacing multiple spaces with a single one\n",
    "la_data[\"location\"] = [re.sub(r\"\\s+\",\" \",data)for data in la_data[\"location\"]]"
   ]
  },
  {
   "cell_type": "code",
   "execution_count": 74,
   "id": "8c1c69d2-57a1-42cc-b93c-1aca560314ce",
   "metadata": {},
   "outputs": [],
   "source": [
    "# uppercase\n",
    "la_data[\"location\"] = la_data[\"location\"].str.upper()"
   ]
  },
  {
   "cell_type": "code",
   "execution_count": 75,
   "id": "49f0ee71-7a83-4de1-8a65-3745b1400c52",
   "metadata": {},
   "outputs": [
    {
     "data": {
      "text/plain": [
       "location\n",
       "6TH ST                      2571\n",
       "7TH ST                      2165\n",
       "9300 TAMPA AV               2069\n",
       "6TH                         1954\n",
       "7TH                         1880\n",
       "5TH ST                      1843\n",
       "5TH                         1768\n",
       "6600 TOPANGA CANYON BL      1717\n",
       "VERMONT AV                  1576\n",
       "WESTERN AV                  1445\n",
       "6800 HOLLYWOOD BL           1414\n",
       "14000 RIVERSIDE DR          1398\n",
       "500 S SAN PEDRO ST          1398\n",
       "BROADWAY                    1393\n",
       "HOLLYWOOD                   1390\n",
       "3RD ST                      1285\n",
       "700 W 7TH ST                1278\n",
       "FIGUEROA                    1183\n",
       "VERMONT                     1177\n",
       "SUNSET                      1156\n",
       "8TH ST                      1140\n",
       "SHERMAN WY                  1136\n",
       "700 S FIGUEROA ST           1107\n",
       "FIGUEROA ST                 1100\n",
       "100 THE GROVE DR            1092\n",
       "WILSHIRE BL                 1077\n",
       "800 N ALAMEDA ST            1047\n",
       "HOLLYWOOD BL                1043\n",
       "WESTERN                     1027\n",
       "4TH ST                       956\n",
       "600 S SAN PEDRO ST           935\n",
       "10200 SANTA MONICA BL        929\n",
       "PICO BL                      929\n",
       "300 WORLD WY                 911\n",
       "3RD                          894\n",
       "3500 S LA CIENEGA BL         891\n",
       "SUNSET BL                    858\n",
       "8500 BEVERLY BL              840\n",
       "600 W 5TH ST                 830\n",
       "WILSHIRE                     828\n",
       "VAN NUYS BL                  798\n",
       "SEPULVEDA BL                 786\n",
       "8TH                          783\n",
       "1800 W SLAUSON AV            780\n",
       "5700 SEPULVEDA BL            777\n",
       "CRENSHAW BL                  755\n",
       "WASHINGTON BL                753\n",
       "4TH                          739\n",
       "7000 HOLLYWOOD BL            715\n",
       "MAIN ST                      713\n",
       "1ST ST                       710\n",
       "OLYMPIC BL                   697\n",
       "OLYMPIC                      692\n",
       "CENTRAL AV                   691\n",
       "4000 CRENSHAW BL             675\n",
       "VENICE BL                    667\n",
       "SLAUSON AV                   664\n",
       "200 E 6TH ST                 654\n",
       "SEPULVEDA                    648\n",
       "MARTIN LUTHER KING JR BL     646\n",
       "Name: count, dtype: int64"
      ]
     },
     "execution_count": 75,
     "metadata": {},
     "output_type": "execute_result"
    }
   ],
   "source": [
    "la_data[\"location\"].value_counts().head(60)"
   ]
  },
  {
   "cell_type": "code",
   "execution_count": 76,
   "id": "d64754d1-35e3-4abb-9d24-3053745daba3",
   "metadata": {},
   "outputs": [],
   "source": [
    "# this column contain various issues like 6th,6th st and so on \n",
    "# olympic , olympic bl and many more..."
   ]
  },
  {
   "cell_type": "code",
   "execution_count": 77,
   "id": "16a60972-ebf2-419e-a15f-fe60a4475b71",
   "metadata": {},
   "outputs": [],
   "source": [
    "def wrt_ST_with_ordinal(x):\n",
    "    if re.fullmatch(r\"\\d+(ST|TH|RD|ND)\",x):\n",
    "        return f\"{x} ST\"\n",
    "    else:\n",
    "        return x\n",
    "la_data[\"location\"] = la_data[\"location\"].apply(wrt_ST_with_ordinal)"
   ]
  },
  {
   "cell_type": "code",
   "execution_count": 78,
   "id": "81bd619f-515e-457e-b2c1-d61c9f2b236f",
   "metadata": {},
   "outputs": [
    {
     "data": {
      "text/plain": [
       "location\n",
       "6TH ST                      4525\n",
       "7TH ST                      4045\n",
       "5TH ST                      3611\n",
       "3RD ST                      2179\n",
       "9300 TAMPA AV               2069\n",
       "8TH ST                      1923\n",
       "6600 TOPANGA CANYON BL      1717\n",
       "4TH ST                      1695\n",
       "VERMONT AV                  1576\n",
       "WESTERN AV                  1445\n",
       "6800 HOLLYWOOD BL           1414\n",
       "14000 RIVERSIDE DR          1398\n",
       "500 S SAN PEDRO ST          1398\n",
       "BROADWAY                    1393\n",
       "HOLLYWOOD                   1390\n",
       "700 W 7TH ST                1278\n",
       "1ST ST                      1257\n",
       "FIGUEROA                    1183\n",
       "VERMONT                     1177\n",
       "SUNSET                      1156\n",
       "SHERMAN WY                  1136\n",
       "700 S FIGUEROA ST           1107\n",
       "FIGUEROA ST                 1100\n",
       "100 THE GROVE DR            1092\n",
       "WILSHIRE BL                 1077\n",
       "800 N ALAMEDA ST            1047\n",
       "HOLLYWOOD BL                1043\n",
       "WESTERN                     1027\n",
       "600 S SAN PEDRO ST           935\n",
       "10200 SANTA MONICA BL        929\n",
       "PICO BL                      929\n",
       "300 WORLD WY                 911\n",
       "3500 S LA CIENEGA BL         891\n",
       "SUNSET BL                    858\n",
       "8500 BEVERLY BL              840\n",
       "600 W 5TH ST                 830\n",
       "WILSHIRE                     828\n",
       "VAN NUYS BL                  798\n",
       "2ND ST                       791\n",
       "SEPULVEDA BL                 786\n",
       "1800 W SLAUSON AV            780\n",
       "5700 SEPULVEDA BL            777\n",
       "CRENSHAW BL                  755\n",
       "WASHINGTON BL                753\n",
       "9TH ST                       749\n",
       "11TH ST                      720\n",
       "7000 HOLLYWOOD BL            715\n",
       "MAIN ST                      713\n",
       "OLYMPIC BL                   697\n",
       "103RD ST                     695\n",
       "OLYMPIC                      692\n",
       "CENTRAL AV                   691\n",
       "4000 CRENSHAW BL             675\n",
       "VENICE BL                    667\n",
       "SLAUSON AV                   664\n",
       "12TH ST                      657\n",
       "200 E 6TH ST                 654\n",
       "SEPULVEDA                    648\n",
       "MARTIN LUTHER KING JR BL     646\n",
       "SANTA MONICA                 642\n",
       "Name: count, dtype: int64"
      ]
     },
     "execution_count": 78,
     "metadata": {},
     "output_type": "execute_result"
    }
   ],
   "source": [
    "la_data[\"location\"].value_counts().head(60)"
   ]
  },
  {
   "cell_type": "markdown",
   "id": "5f4b741d-1029-45c0-be59-9f341e5ef767",
   "metadata": {},
   "source": [
    "### Location Column Status:\n",
    "The data cleaning process revealed several inconsistencies, including mixed formats with full names and abbreviations like \"BL\" and \"BH\", inconsistent use of uppercase and lowercase letters, varying string lengths, and the presence of unclear codes such as \"BL\" and \"BH\". Additionally, there were potential duplicates with different spellings or formats. While I was able to successfully resolve the ordinal inconsistencies, other issues remain unresolved despite multiple attempts at cleaning the data.\n",
    "\n"
   ]
  },
  {
   "cell_type": "markdown",
   "id": "ece597ec-02fa-4c9c-812c-f47eb1a02a4d",
   "metadata": {},
   "source": [
    "#### changing the datatype of time occ (str to datetime)"
   ]
  },
  {
   "cell_type": "code",
   "execution_count": 79,
   "id": "5d4229ed-cf22-4a76-a133-2fa14c2311a9",
   "metadata": {},
   "outputs": [],
   "source": [
    "la_data['time occ'] = la_data['time occ'].astype('str').str.zfill(4)"
   ]
  },
  {
   "cell_type": "code",
   "execution_count": 80,
   "id": "9a42a3ed-1ad2-4f84-b681-b04265f3971a",
   "metadata": {},
   "outputs": [
    {
     "data": {
      "text/plain": [
       "1775038    0158\n",
       "1693812    1200\n",
       "1753265    1730\n",
       "1064667    1500\n",
       "2069291    1634\n",
       "1836133    0001\n",
       "2039279    1310\n",
       "1588066    1830\n",
       "1147746    1330\n",
       "1020825    2200\n",
       "2054848    1830\n",
       "1123886    0350\n",
       "1994606    2340\n",
       "1804447    1800\n",
       "1867541    1900\n",
       "Name: time occ, dtype: object"
      ]
     },
     "execution_count": 80,
     "metadata": {},
     "output_type": "execute_result"
    }
   ],
   "source": [
    "la_data['time occ'].sample(15, random_state=42)"
   ]
  },
  {
   "cell_type": "code",
   "execution_count": 81,
   "id": "d77aa89c-7439-4f9c-99e8-f6bccd6e0f74",
   "metadata": {},
   "outputs": [
    {
     "data": {
      "text/plain": [
       "dtype('O')"
      ]
     },
     "execution_count": 81,
     "metadata": {},
     "output_type": "execute_result"
    }
   ],
   "source": [
    "la_data['time occ'].dtype"
   ]
  },
  {
   "cell_type": "markdown",
   "id": "d302d557-a136-4d14-a90d-a63f39da2e57",
   "metadata": {},
   "source": [
    "#### changing the data type of vict age (string to number) and handle some inconsistencies"
   ]
  },
  {
   "cell_type": "code",
   "execution_count": 82,
   "id": "488c1bee-2a52-4a43-b567-e13b081b3e97",
   "metadata": {},
   "outputs": [
    {
     "name": "stderr",
     "output_type": "stream",
     "text": [
      "C:\\Users\\dell\\AppData\\Local\\Temp\\ipykernel_1428\\2219287018.py:1: FutureWarning: Downcasting behavior in `replace` is deprecated and will be removed in a future version. To retain the old behavior, explicitly call `result.infer_objects(copy=False)`. To opt-in to the future behavior, set `pd.set_option('future.no_silent_downcasting', True)`\n",
      "  la_data['vict age'] = la_data['vict age'].replace({'UnKnown':np.nan})\n"
     ]
    }
   ],
   "source": [
    "la_data['vict age'] = la_data['vict age'].replace({'UnKnown':np.nan})"
   ]
  },
  {
   "cell_type": "code",
   "execution_count": 83,
   "id": "a3355583-b0c6-46a0-acd2-a5efb0da4737",
   "metadata": {},
   "outputs": [
    {
     "data": {
      "text/plain": [
       "vict age\n",
       "26.0     24374\n",
       "25.0     24206\n",
       "27.0     24184\n",
       "28.0     24008\n",
       "29.0     23659\n",
       "         ...  \n",
       "95.0       145\n",
       "96.0       108\n",
       "97.0       102\n",
       "98.0        80\n",
       "118.0        1\n",
       "Name: count, Length: 99, dtype: int64"
      ]
     },
     "execution_count": 83,
     "metadata": {},
     "output_type": "execute_result"
    }
   ],
   "source": [
    "la_data['vict age'].value_counts()"
   ]
  },
  {
   "cell_type": "code",
   "execution_count": 84,
   "id": "8b9caa34-7370-413b-a500-35574e99e522",
   "metadata": {},
   "outputs": [],
   "source": [
    "la_data['vict age'] = pd.to_numeric(la_data['vict age'])"
   ]
  },
  {
   "cell_type": "code",
   "execution_count": 85,
   "id": "f4cf47e4-17f0-44d5-9134-1035c5ca94b5",
   "metadata": {},
   "outputs": [],
   "source": [
    "# replacing the age which is greater than 100 with nan\n",
    "la_data['vict age'] = la_data['vict age'].mask(la_data['vict age'] > 100 , np.nan) "
   ]
  },
  {
   "cell_type": "markdown",
   "id": "34b20bd3-34fd-490a-a321-e8846696b24e",
   "metadata": {},
   "source": [
    "#### Premis Desc (Categorization)"
   ]
  },
  {
   "cell_type": "code",
   "execution_count": 86,
   "id": "e69f8b56-0521-44cf-8a00-4e7bff1e795e",
   "metadata": {},
   "outputs": [],
   "source": [
    "premis_list = la_data['premis desc'].unique().tolist()\n",
    "pd.Series(premis_list).to_csv('premis_list_1.csv',index=False)"
   ]
  },
  {
   "cell_type": "code",
   "execution_count": 87,
   "id": "1632a6a3-6f0d-4bed-b4f5-19d2f8623fe2",
   "metadata": {},
   "outputs": [],
   "source": [
    "def categorize_premis(desc: str) -> str:\n",
    "    \"\"\"\n",
    "    Categorize premises description into a broader category.\n",
    "    \"\"\"\n",
    "    desc = desc.lower() if isinstance(desc, str) else \"\"\n",
    "\n",
    "    # ----------------- Residential -----------------\n",
    "    if any(word in desc for word in [\n",
    "        \"apartment\", \"house\", \"residence\", \"condo\", \"duplex\", \"home\", \n",
    "        \"single family dwelling\", \"project/tenement\", \"porch\", \"balcony\", \n",
    "        \"driveway\", \"yard\", \"garden\", \"stairwell\", \"elevator\", \"patio\",\n",
    "        \"high-rise building\"   # newly added\n",
    "    ]):\n",
    "        return \"Residential\"\n",
    "\n",
    "    # ----------------- Transportation / Vehicle -----------------\n",
    "    if any(word in desc for word in [\n",
    "        \"station\", \"bus\", \"train\", \"metro\", \"airport\", \"terminal\", \"subway\", \"parking\",\n",
    "        \"vehicle\", \"taxi\", \"tow yard\", \"delivery service\", \"garage/carport\",\n",
    "        \"mta\", \"red line\", \"blue line\", \"expo line\", \"green line\", \"truck\", \"aircraft\",\n",
    "        \"slips/dock\", \"marina\", \"boat\", \"tunnel\", \"redline entrance/exit\"\n",
    "    ]):\n",
    "        return \"Transportation\"\n",
    "\n",
    "    # ----------------- Commercial -----------------\n",
    "    if any(word in desc for word in [\n",
    "        \"store\", \"restaurant\", \"shop\", \"bar\", \"club\", \"cafe\", \"hotel\", \"motel\",\n",
    "        \"business\", \"market\", \"mini-mart\", \"office building\", \"laundromat\", \"cleaner\", \n",
    "        \"hardware\", \"auto dealership\", \"nail salon\", \"computer services\", \"massage parlor\",\n",
    "        \"check cashing\", \"public storage\", \"storage shed\", \"car wash\", \"mail box\",\n",
    "        \"studio\", \"arcade\", \"tattoo\", \"delivery service\", \"beverly connection\", \"beverly center\",\n",
    "        \"drive thru\", \"valet\", \"pay phone\", \"swap meet\", \"gun/sporting goods\", \"tv/radio/appliance\",\n",
    "        \"cyberspace\", \"website\", \"telecommunication\", \"short-term vacation rental\", \"escalator\"\n",
    "    ]):\n",
    "        return \"Commercial\"\n",
    "\n",
    "    # ----------------- Educational -----------------\n",
    "    if any(word in desc for word in [\n",
    "        \"school\", \"college\", \"university\", \"academy\", \"kindergarten\", \"campus\", \"day care\"\n",
    "    ]):\n",
    "        return \"Educational\"\n",
    "\n",
    "    # ----------------- Public / Government -----------------\n",
    "    if any(word in desc for word in [\n",
    "        \"library\", \"courthouse\", \"police\", \"fire station\", \"post office\", \"city hall\", \n",
    "        \"government\", \"detention/jail\", \"missions/shelters\", \"public restroom\", \"federal\", \"state\", \"county\",\n",
    "        \"dept of defense\", \"nuclear facility\"\n",
    "    ]):\n",
    "        return \"Public/Government\"\n",
    "\n",
    "    # ----------------- Outdoor / Street -----------------\n",
    "    if any(word in desc for word in [\n",
    "        \"street\", \"alley\", \"park\", \"sidewalk\", \"freeway\", \"highway\", \"field\", \"lot\", \"beach\",\n",
    "        \"pool\", \"golf course\", \"transient encampment\", \"river bed\", \"underpass\", \"pedestrian\",\n",
    "        \"dam\", \"reservoir\", \"basketball courts\", \"handball courts\", \"skating rink\",\n",
    "        \"trash can\", \"trash dumpster\"\n",
    "    ]):\n",
    "        return \"Outdoor/Street\"\n",
    "\n",
    "    # ----------------- Healthcare -----------------\n",
    "    if any(word in desc for word in [\n",
    "        \"hospital\", \"clinic\", \"pharmacy\", \"medical\", \"nursing home\", \"urgent care\", \n",
    "        \"health spa\", \"vision care\", \"hospice\", \"mortuary\"\n",
    "    ]):\n",
    "        return \"Healthcare\"\n",
    "\n",
    "    # ----------------- Financial -----------------\n",
    "    if any(word in desc for word in [\n",
    "        \"bank\", \"atm\", \"credit union\", \"financial\", \"exchange\", \"check cashing\", \"savings & loan\", \"finance company\"\n",
    "    ]):\n",
    "        return \"Financial\"\n",
    "\n",
    "    # ----------------- Religious -----------------\n",
    "    if any(word in desc for word in [\n",
    "        \"church\", \"mosque\", \"temple\", \"synagogue\", \"chapel\", \"place of worship\", \"cemetary\"\n",
    "    ]):\n",
    "        return \"Religious\"\n",
    "\n",
    "    # ----------------- Industrial / Utility -----------------\n",
    "    if any(word in desc for word in [\n",
    "        \"factory\", \"warehouse\", \"plant\", \"construction\", \"utility\", \"power station\", \n",
    "        \"recycling center\", \"equipment rental\", \"oil refinery\", \"garment manufacturer\", \n",
    "        \"water facility\", \"sewage\", \"abatement\", \"manufacturing company\", \"tool shed\"\n",
    "    ]):\n",
    "        return \"Industrial/Utility\"\n",
    "\n",
    "    # ----------------- Entertainment / Events -----------------\n",
    "    if any(word in desc for word in [\n",
    "        \"theatre\", \"stadium\", \"coliseum\", \"convention center\", \"the grove\", \"staples center\", \n",
    "        \"sports venue\", \"dodger stadium\", \"museum\", \"cultural\", \"sports arena\", \"hockey rink\",\n",
    "        \"mass gathering location\"   # newly added\n",
    "    ]):\n",
    "        return \"Entertainment\"\n",
    "\n",
    "    # ----------------- Other -----------------\n",
    "    return \"Other\"\n"
   ]
  },
  {
   "cell_type": "code",
   "execution_count": 88,
   "id": "b374a037-0a3c-4c74-a530-aa40d4ca79f5",
   "metadata": {},
   "outputs": [],
   "source": [
    "la_data['premis_category'] = la_data['premis desc'].apply(categorize_premis)"
   ]
  },
  {
   "cell_type": "code",
   "execution_count": 89,
   "id": "1b9bf709-bfe4-482e-bad2-96c2ff9b5fb6",
   "metadata": {},
   "outputs": [
    {
     "data": {
      "text/plain": [
       "premis_category\n",
       "Residential           382699\n",
       "Outdoor/Street        317689\n",
       "Transportation        218351\n",
       "Commercial            110689\n",
       "Educational            16596\n",
       "Public/Government       8632\n",
       "Healthcare              7859\n",
       "Other                   7636\n",
       "Financial               3886\n",
       "Industrial/Utility      2758\n",
       "Religious               2735\n",
       "Entertainment           2354\n",
       "Name: count, dtype: int64"
      ]
     },
     "execution_count": 89,
     "metadata": {},
     "output_type": "execute_result"
    }
   ],
   "source": [
    "la_data['premis_category'].value_counts()"
   ]
  },
  {
   "cell_type": "code",
   "execution_count": 90,
   "id": "67996662-94c6-47f1-967d-ca2dbcdf70e0",
   "metadata": {},
   "outputs": [],
   "source": [
    "premis_other_list = la_data.loc[la_data['premis_category'] == 'Other','premis desc'].unique().tolist()"
   ]
  },
  {
   "cell_type": "code",
   "execution_count": 91,
   "id": "212bfcdf-a2a3-47ea-9250-0ebcadd1f075",
   "metadata": {},
   "outputs": [
    {
     "data": {
      "text/plain": [
       "4"
      ]
     },
     "execution_count": 91,
     "metadata": {},
     "output_type": "execute_result"
    }
   ],
   "source": [
    "pd.Series(premis_other_list).nunique()"
   ]
  },
  {
   "cell_type": "code",
   "execution_count": 92,
   "id": "2ae8a119-f578-4733-8a5f-f370530a8373",
   "metadata": {},
   "outputs": [
    {
     "data": {
      "text/plain": [
       "array(['Outdoor/Street', 'Residential', 'Commercial', 'Transportation',\n",
       "       'Healthcare', 'Financial', 'Public/Government',\n",
       "       'Industrial/Utility', 'Educational', 'Other', 'Religious',\n",
       "       'Entertainment'], dtype=object)"
      ]
     },
     "execution_count": 92,
     "metadata": {},
     "output_type": "execute_result"
    }
   ],
   "source": [
    "la_data['premis_category'].unique()"
   ]
  },
  {
   "cell_type": "code",
   "execution_count": 93,
   "id": "0b8de17d-1625-40f8-a14d-d96b1aed7a89",
   "metadata": {},
   "outputs": [
    {
     "data": {
      "text/plain": [
       "premis desc\n",
       "OTHER PREMISE                               5965\n",
       "OTHER/OUTSIDE                               1506\n",
       "UNKNOWN                                      149\n",
       "RETIRED (DUPLICATE) DO NOT USE THIS CODE      16\n",
       "Name: count, dtype: int64"
      ]
     },
     "execution_count": 93,
     "metadata": {},
     "output_type": "execute_result"
    }
   ],
   "source": [
    "la_data[la_data['premis_category'] == 'Other']['premis desc'].value_counts().head(10)"
   ]
  },
  {
   "cell_type": "code",
   "execution_count": 94,
   "id": "21bf7c06-9465-4dad-967b-fd43fb5bcdd4",
   "metadata": {},
   "outputs": [
    {
     "data": {
      "text/plain": [
       "['Outdoor/Street',\n",
       " 'Residential',\n",
       " 'Commercial',\n",
       " 'Transportation',\n",
       " 'Healthcare',\n",
       " 'Financial',\n",
       " 'Public/Government',\n",
       " 'Industrial/Utility',\n",
       " 'Educational',\n",
       " 'Other',\n",
       " 'Religious',\n",
       " 'Entertainment']"
      ]
     },
     "execution_count": 94,
     "metadata": {},
     "output_type": "execute_result"
    }
   ],
   "source": [
    "premis_cate = la_data['premis_category'].unique().tolist()\n",
    "premis_cate"
   ]
  },
  {
   "cell_type": "code",
   "execution_count": 95,
   "id": "806fd9b5-7cd8-42bb-824e-867dfb74a969",
   "metadata": {},
   "outputs": [],
   "source": [
    "len_premis_cate = len(premis_cate)"
   ]
  },
  {
   "cell_type": "code",
   "execution_count": 96,
   "id": "5d980efe-1662-45fb-8a1e-6ccecff381f8",
   "metadata": {},
   "outputs": [
    {
     "name": "stdout",
     "output_type": "stream",
     "text": [
      "PREMIS CATEGORY Outdoor/Street\n",
      "premis desc\n",
      "STREET                                   244916\n",
      "SIDEWALK                                  54335\n",
      "PARK/PLAYGROUND                            7787\n",
      "ALLEY                                      7393\n",
      "BEACH                                       876\n",
      "AUTO SALES LOT                              519\n",
      "FREEWAY                                     467\n",
      "TRANSIENT ENCAMPMENT                        283\n",
      "VACANT LOT                                  262\n",
      "GOLF COURSE*                                150\n",
      "POOL-PUBLIC/OUTDOOR OR INDOOR*              138\n",
      "UNDERPASS/BRIDGE*                           103\n",
      "BOWLING ALLEY*                              100\n",
      "SKATEBOARD FACILITY/SKATEBOARD PARK*         87\n",
      "RIVER BED*                                   74\n",
      "PEDESTRIAN OVERCROSSING                      60\n",
      "BASKETBALL COURTS                            55\n",
      "AMUSEMENT PARK*                              19\n",
      "DAM/RESERVOIR                                17\n",
      "SKATING RINK*                                15\n",
      "TRASH CAN/TRASH DUMPSTER                     13\n",
      "MUSCLE BEACH                                 10\n",
      "HORSE RACING/SANTA ANITA PARK*                4\n",
      "HANDBALL COURTS                               4\n",
      "TRAM/STREETCAR(BOXLIKE WAG ON RAILS)*         2\n",
      "Name: count, dtype: int64\n",
      "PREMIS CATEGORY Residential\n",
      "premis desc\n",
      "SINGLE FAMILY DWELLING                                       205305\n",
      "MULTI-UNIT DWELLING (APARTMENT, DUPLEX, ETC)                 127823\n",
      "DRIVEWAY                                                      22347\n",
      "YARD (RESIDENTIAL/BUSINESS)                                    7034\n",
      "OTHER RESIDENCE                                                4565\n",
      "PORCH, RESIDENTIAL                                             2755\n",
      "CONDOMINIUM/TOWNHOUSE                                          2179\n",
      "DIY CENTER (LOWE'S,HOME DEPOT,OSH,CONTRACTORS WAREHOUSE)       2101\n",
      "NURSING/CONVALESCENT/RETIREMENT HOME                           1546\n",
      "GROUP HOME                                                     1083\n",
      "WAREHOUSE                                                      1054\n",
      "MOBILE HOME/TRAILERS/CONSTRUCTION TRAILERS/RV'S/MOTORHOME       902\n",
      "PROJECT/TENEMENT/PUBLIC HOUSING                                 678\n",
      "APARTMENT/CONDO COMMON LAUNDRY ROOM                             668\n",
      "TRANSITIONAL HOUSING/HALFWAY HOUSE                              522\n",
      "PATIO*                                                          496\n",
      "SINGLE RESIDENCE OCCUPANCY (SRO'S) LOCATIONS                    386\n",
      "FRAT HOUSE/SORORITY/DORMITORY                                   270\n",
      "TOW YARD*                                                       219\n",
      "ABANDONED BUILDING ABANDONED HOUSE                              214\n",
      "BALCONY*                                                        200\n",
      "STAIRWELL*                                                      148\n",
      "ELEVATOR                                                        137\n",
      "FOSTER HOME BOYS OR GIRLS*                                       44\n",
      "HIGH-RISE BUILDING                                               23\n",
      "Name: count, dtype: int64\n",
      "PREMIS CATEGORY Commercial\n",
      "premis desc\n",
      "RESTAURANT/FAST FOOD                                   16752\n",
      "DEPARTMENT STORE                                       14273\n",
      "MARKET                                                 11202\n",
      "OTHER STORE                                             8735\n",
      "HOTEL                                                   5164\n",
      "DRUG STORE                                              5140\n",
      "MINI-MART                                               4520\n",
      "PUBLIC STORAGE                                          4362\n",
      "OFFICE BUILDING/OFFICE                                  3214\n",
      "CLOTHING STORE                                          2892\n",
      "MOTEL                                                   2855\n",
      "LIQUOR STORE                                            2825\n",
      "CELL PHONE STORE                                        2752\n",
      "LAUNDROMAT                                              2058\n",
      "COFFEE SHOP (STARBUCKS, COFFEE BEAN, PEET'S, ETC.)      2030\n",
      "NIGHT CLUB (OPEN EVENINGS ONLY)                         1993\n",
      "SHOPPING MALL (COMMON AREA)                             1896\n",
      "BAR/COCKTAIL/NIGHTCLUB                                  1573\n",
      "DISCOUNT STORE (99 CENT,DOLLAR,ETC.                     1308\n",
      "AUTO REPAIR SHOP                                        1290\n",
      "STORAGE SHED                                            1261\n",
      "BEAUTY/BARBER SHOP                                       987\n",
      "BAR/SPORTS BAR (OPEN DAY & NIGHT)                        693\n",
      "CAR WASH                                                 625\n",
      "MEMBERSHIP STORE (COSTCO,SAMS CLUB)*                     586\n",
      "CHECK CASHING*                                           568\n",
      "HARDWARE/BUILDING SUPPLY                                 557\n",
      "AUTO SUPPLY STORE*                                       553\n",
      "JEWELRY STORE                                            527\n",
      "THE BEVERLY CONNECTION                                   522\n",
      "BEAUTY SUPPLY STORE                                      516\n",
      "ELECTRONICS STORE (IE:RADIO SHACK, ETC.)                 485\n",
      "THE BEVERLY CENTER                                       457\n",
      "MAIL BOX                                                 445\n",
      "TOBACCO SHOP                                             440\n",
      "PHARMACY INSIDE STORE OR SUPERMARKET*                    411\n",
      "AUTO DEALERSHIP (CHEVY, FORD, BMW, MERCEDES, ETC.)       386\n",
      "NAIL SALON                                               377\n",
      "STUDIO (FILM/PHOTOGRAPHIC/MUSIC)                         336\n",
      "CLEANER/LAUNDROMAT                                       250\n",
      "MASSAGE PARLOR                                           249\n",
      "NURSERY/FLOWER SHOP                                      225\n",
      "SWAP MEET                                                208\n",
      "SEX ORIENTED/BOOK STORE/STRIP CLUB/GENTLEMAN'S CLUB      207\n",
      "PET STORE                                                188\n",
      "COMPUTER SERVICES/REPAIRS/SALES                          176\n",
      "CYBERSPACE                                               175\n",
      "ENTERTAINMENT/COMEDY CLUB (OTHER)                        169\n",
      "GUN/SPORTING GOODS                                       152\n",
      "FURNITURE STORE                                          141\n",
      "PAWN SHOP                                                134\n",
      "WEBSITE                                                  107\n",
      "DRIVE THRU*                                              102\n",
      "VALET                                                     87\n",
      "OPTICAL OFFICE INSIDE STORE OR SUPERMARKET*               81\n",
      "SHORT-TERM VACATION RENTAL                                76\n",
      "TV/RADIO/APPLIANCE                                        75\n",
      "TATTOO PARLOR*                                            69\n",
      "TELECOMMUNICATION FACILITY/LOCATION                       51\n",
      "BOOK STORE                                                49\n",
      "Name: count, dtype: int64\n",
      "PREMIS CATEGORY Transportation\n",
      "premis desc\n",
      "PARKING LOT                                                        79034\n",
      "OTHER BUSINESS                                                     48102\n",
      "VEHICLE, PASSENGER/TRUCK                                           40540\n",
      "GARAGE/CARPORT                                                     19030\n",
      "PARKING UNDERGROUND/BUILDING                                       10095\n",
      "GAS STATION                                                         5908\n",
      "TRANSPORTATION FACILITY (AIRPORT)                                   3871\n",
      "BUS STOP                                                            2499\n",
      "MTA BUS                                                             2045\n",
      "LA UNION STATION (NOT LINE SPECIFIC)                                 605\n",
      "MEDICAL MARIJUANA FACILITIES/BUSINESSES                              541\n",
      "BUS, SCHOOL, CHURCH                                                  231\n",
      "MTA - RED LINE - UNION STATION                                       223\n",
      "BUS-CHARTER/PRIVATE                                                  223\n",
      "BUS STOP/LAYOVER (ALSO QUERY 124)                                    219\n",
      "SLIPS/DOCK/MARINA/BOAT                                               219\n",
      "MTA - RED LINE - WESTLAKE/MACARTHUR PARK                             204\n",
      "MTA - RED LINE - NORTH HOLLYWOOD                                     193\n",
      "MTA - RED LINE - 7TH AND METRO CENTER                                172\n",
      "MTA - RED LINE - HOLLYWOOD/VINE                                      145\n",
      "FIRE STATION                                                         144\n",
      "MUNICIPAL BUS LINE INCLUDES LADOT/DASH                               129\n",
      "DELIVERY SERVICE (FED EX, UPS, COURIERS,COURIER SERVICE)*            124\n",
      "MTA - RED LINE - HOLLYWOOD/HIGHLAND                                  124\n",
      "TRAIN TRACKS                                                         123\n",
      "TAXI                                                                 121\n",
      "MTA - RED LINE - PERSHING SQUARE                                     121\n",
      "TRADE SCHOOL (MEDICAL-TECHNICAL-BUSINESS)*                           120\n",
      "MTA - EXPO LINE - EXPO/WESTERN                                       117\n",
      "BUS DEPOT/TERMINAL, OTHER THAN MTA                                   114\n",
      "MTA - RED LINE - WILSHIRE/VERMONT                                     97\n",
      "VEHICLE STORAGE LOT (CARS, TRUCKS, RV'S, BOATS, TRAILERS, ETC.)       94\n",
      "MTA - RED LINE - VERMONT/BEVERLY                                      84\n",
      "MTA - RED LINE - VERMONT/SANTA MONICA                                 79\n",
      "MTA - RED LINE - VERMONT/SUNSET                                       76\n",
      "MTA - BLUE LINE - 7TH AND METRO CENTER                                75\n",
      "7TH AND METRO CENTER (NOT LINE SPECIFIC)                              72\n",
      "MTA PROPERTY OR PARKING LOT                                           70\n",
      "TERMINAL, OTHER THAN MTA                                              70\n",
      "MTA - EXPO LINE - EXPO/CRENSHAW                                       69\n",
      "MTA - EXPO LINE - EXPO/VERMONT                                        69\n",
      "MTA - EXPO LINE - EXPO/LA BREA                                        62\n",
      "MTA - ORANGE LINE - NORTH HOLLYWOOD                                   61\n",
      "MTA - GREEN LINE - HARBOR FWY                                         61\n",
      "MTA - EXPO LINE - EXPO/BUNDY                                          59\n",
      "MTA - EXPO LINE - LA CIENEGA/JEFFERSON                                59\n",
      "MTA - RED LINE - HOLLYWOOD/WESTERN                                    58\n",
      "MTA - BLUE LINE - 103RD/WATTS TOWERS                                  57\n",
      "MTA - RED LINE - UNIVERSAL CITY/STUDIO CITY                           57\n",
      "MTA - EXPO LINE - FARMDALE                                            55\n",
      "MTA - GREEN LINE - AVALON                                             53\n",
      "MTA - RED LINE - CIVIC CENTER/GRAND PARK                              51\n",
      "MTA - EXPO LINE - 7TH AND METRO CENTER                                50\n",
      "METROLINK TRAIN                                                       48\n",
      "MTA - BLUE LINE - WASHINGTON                                          47\n",
      "MTA - EXPO LINE - EXPO/SEPULVEDA                                      46\n",
      "OTHER RR TRAIN (UNION PAC, SANTE FE ETC                               46\n",
      "GREYHOUND OR INTERSTATE BUS                                           46\n",
      "TRAIN DEPOT/TERMINAL, OTHER THAN MTA                                  46\n",
      "MTA - EXPO LINE - JEFFERSON/USC                                       44\n",
      "Name: count, dtype: int64\n",
      "PREMIS CATEGORY Healthcare\n",
      "premis desc\n",
      "HEALTH SPA/GYM                        3048\n",
      "HOSPITAL                              3001\n",
      "MEDICAL/DENTAL OFFICES                1517\n",
      "VISION CARE FACILITY*                  116\n",
      "VETERINARIAN/ANIMAL HOSPITAL            75\n",
      "MORTUARY                                41\n",
      "HOSPICE                                 40\n",
      "ABORTION CLINIC/ABORTION FACILITY*      15\n",
      "METHADONE CLINIC                         6\n",
      "Name: count, dtype: int64\n",
      "PREMIS CATEGORY Financial\n",
      "premis desc\n",
      "BANK                                         3147\n",
      "AUTOMATED TELLER MACHINE (ATM)                590\n",
      "CREDIT UNION                                   83\n",
      "SAVINGS & LOAN                                 40\n",
      "FINANCE COMPANY                                24\n",
      "BANK DROP BOX/MONEY DROP-OUTSIDE OF BANK*       2\n",
      "Name: count, dtype: int64\n",
      "PREMIS CATEGORY Public/Government\n",
      "premis desc\n",
      "POLICE FACILITY                                       2760\n",
      "GOVERNMENT FACILITY (FEDERAL,STATE, COUNTY & CITY)    1599\n",
      "LIBRARY                                               1569\n",
      "MISSIONS/SHELTERS                                     1512\n",
      "DETENTION/JAIL FACILITY                                388\n",
      "PUBLIC RESTROOM(INDOORS-INSIDE)                        301\n",
      "PUBLIC RESTROOM/OUTSIDE*                               255\n",
      "POST OFFICE                                            245\n",
      "DEPT OF DEFENSE FACILITY                                 2\n",
      "NUCLEAR FACILITY                                         1\n",
      "Name: count, dtype: int64\n",
      "PREMIS CATEGORY Industrial/Utility\n",
      "premis desc\n",
      "CONSTRUCTION SITE                       2087\n",
      "RECYCLING CENTER                         247\n",
      "MANUFACTURING COMPANY                    112\n",
      "EQUIPMENT RENTAL                          93\n",
      "FACTORY                                   63\n",
      "TOOL SHED*                                46\n",
      "OIL REFINERY                              28\n",
      "WATER FACILITY                            24\n",
      "ENERGY PLANT/FACILITY                     21\n",
      "GARMENT MANUFACTURER                      16\n",
      "CHEMICAL STORAGE/MANUFACTURING PLANT       9\n",
      "ABATEMENT LOCATION                         8\n",
      "SEWAGE FACILITY/PIPE                       4\n",
      "Name: count, dtype: int64\n",
      "PREMIS CATEGORY Educational\n",
      "premis desc\n",
      "HIGH SCHOOL                          5654\n",
      "JUNIOR HIGH SCHOOL                   3615\n",
      "ELEMENTARY SCHOOL                    3304\n",
      "COLLEGE/JUNIOR COLLEGE/UNIVERSITY    2223\n",
      "SPECIALTY SCHOOL/OTHER               1116\n",
      "PRIVATE SCHOOL/PRESCHOOL              426\n",
      "DAY CARE/CHILDREN*                    147\n",
      "DAY CARE/ADULTS*                      111\n",
      "Name: count, dtype: int64\n",
      "PREMIS CATEGORY Other\n",
      "premis desc\n",
      "OTHER PREMISE                               5965\n",
      "OTHER/OUTSIDE                               1506\n",
      "UNKNOWN                                      149\n",
      "RETIRED (DUPLICATE) DO NOT USE THIS CODE      16\n",
      "Name: count, dtype: int64\n",
      "PREMIS CATEGORY Religious\n",
      "premis desc\n",
      "CHURCH/CHAPEL (CHANGED 03-03 FROM CHURCH/TEMPLE)    2368\n",
      "SYNAGOGUE/TEMPLE                                     211\n",
      "CEMETARY*                                             86\n",
      "OTHER PLACE OF WORSHIP                                39\n",
      "MOSQUE*                                               31\n",
      "Name: count, dtype: int64\n",
      "PREMIS CATEGORY Entertainment\n",
      "premis desc\n",
      "THEATRE/MOVIE                     612\n",
      "THE GROVE                         612\n",
      "DODGER STADIUM                    327\n",
      "CONVENTION CENTER                 243\n",
      "MUSEUM                            151\n",
      "COLISEUM                          131\n",
      "STAPLES CENTER *                  130\n",
      "SPORTS VENUE, OTHER                84\n",
      "SPORTS ARENA                       34\n",
      "MASS GATHERING LOCATION            22\n",
      "CULTURAL SIGNIFICANCE/MONUMENT      4\n",
      "HOCKEY RINK/ICE HOCKEY              4\n",
      "Name: count, dtype: int64\n"
     ]
    }
   ],
   "source": [
    "for i in range(len_premis_cate):\n",
    "    print(\"PREMIS CATEGORY\",premis_cate[i])\n",
    "    print(la_data[la_data['premis_category'] == premis_cate[i]]['premis desc'].value_counts().head(60))"
   ]
  },
  {
   "cell_type": "code",
   "execution_count": 106,
   "id": "0b8f8885-3b53-437c-86ef-0ec34ee98090",
   "metadata": {},
   "outputs": [
    {
     "data": {
      "text/plain": [
       "dr_no                   0\n",
       "date rptd               0\n",
       "date occ                0\n",
       "time occ                0\n",
       "area name               0\n",
       "part 1-2                0\n",
       "crm cd desc             0\n",
       "vict age           199426\n",
       "vict sex                0\n",
       "vict descent            0\n",
       "premis desc             0\n",
       "weapon desc             0\n",
       "status                  0\n",
       "status desc             0\n",
       "weapon used             0\n",
       "weapon_category         0\n",
       "premis_category         0\n",
       "datetime occ            0\n",
       "dtype: int64"
      ]
     },
     "execution_count": 106,
     "metadata": {},
     "output_type": "execute_result"
    }
   ],
   "source": [
    "la_data.isnull().sum()"
   ]
  },
  {
   "cell_type": "code",
   "execution_count": 107,
   "id": "5291b2aa-d4ad-418d-826e-68f84a682709",
   "metadata": {},
   "outputs": [
    {
     "data": {
      "text/plain": [
       "dr_no                       int64\n",
       "date rptd                  object\n",
       "date occ           datetime64[ns]\n",
       "time occ                   object\n",
       "area name                  object\n",
       "part 1-2                   object\n",
       "crm cd desc                object\n",
       "vict age                  float64\n",
       "vict sex                   object\n",
       "vict descent               object\n",
       "premis desc                object\n",
       "weapon desc                object\n",
       "status                     object\n",
       "status desc                object\n",
       "weapon used                object\n",
       "weapon_category            object\n",
       "premis_category            object\n",
       "datetime occ       datetime64[ns]\n",
       "dtype: object"
      ]
     },
     "execution_count": 107,
     "metadata": {},
     "output_type": "execute_result"
    }
   ],
   "source": [
    "la_data.dtypes"
   ]
  },
  {
   "cell_type": "code",
   "execution_count": 99,
   "id": "7048b853-8baf-461c-9f7a-cf163aa5f834",
   "metadata": {},
   "outputs": [],
   "source": [
    "la_data.drop(\"location\",axis=1,inplace=True)"
   ]
  },
  {
   "cell_type": "code",
   "execution_count": 102,
   "id": "0d187850-b698-4163-9d32-1961f68181ac",
   "metadata": {},
   "outputs": [],
   "source": [
    "la_data['datetime occ'] = pd.to_datetime(la_data['date occ'].dt.strftime(\"%Y-%m-%d\")+' '+la_data['time occ'],format = \"%Y-%m-%d %H%M\")"
   ]
  },
  {
   "cell_type": "code",
   "execution_count": 105,
   "id": "b91926d9-feff-431c-a026-d2f6e10b8616",
   "metadata": {},
   "outputs": [
    {
     "data": {
      "text/plain": [
       "Index(['dr_no', 'date rptd', 'date occ', 'time occ', 'area name', 'part 1-2',\n",
       "       'crm cd desc', 'vict age', 'vict sex', 'vict descent', 'premis desc',\n",
       "       'weapon desc', 'status', 'status desc', 'weapon used',\n",
       "       'weapon_category', 'premis_category', 'datetime occ'],\n",
       "      dtype='object')"
      ]
     },
     "execution_count": 105,
     "metadata": {},
     "output_type": "execute_result"
    }
   ],
   "source": [
    "la_data.columns"
   ]
  },
  {
   "cell_type": "code",
   "execution_count": 103,
   "id": "596df502-1d20-45e5-8814-d86777f6addf",
   "metadata": {},
   "outputs": [],
   "source": [
    "la_data.to_csv('cleaned_LA_file.csv',index=False)"
   ]
  }
 ],
 "metadata": {
  "kernelspec": {
   "display_name": "Python 3 (ipykernel)",
   "language": "python",
   "name": "python3"
  },
  "language_info": {
   "codemirror_mode": {
    "name": "ipython",
    "version": 3
   },
   "file_extension": ".py",
   "mimetype": "text/x-python",
   "name": "python",
   "nbconvert_exporter": "python",
   "pygments_lexer": "ipython3",
   "version": "3.12.0"
  }
 },
 "nbformat": 4,
 "nbformat_minor": 5
}
